{
 "cells": [
  {
   "cell_type": "markdown",
   "metadata": {},
   "source": [
    "# Missing Data Analysis"
   ]
  },
  {
   "cell_type": "markdown",
   "metadata": {},
   "source": [
    "### Packages importations"
   ]
  },
  {
   "cell_type": "code",
   "execution_count": 1,
   "metadata": {},
   "outputs": [],
   "source": [
    "import pandas as pd\n",
    "import seaborn as sns\n",
    "import numpy as np\n",
    "import matplotlib.pyplot as plt"
   ]
  },
  {
   "cell_type": "markdown",
   "metadata": {},
   "source": [
    "### Data first discovery"
   ]
  },
  {
   "cell_type": "code",
   "execution_count": 2,
   "metadata": {},
   "outputs": [],
   "source": [
    "data = pd.read_csv('all_data_new.csv',low_memory =False)"
   ]
  },
  {
   "cell_type": "markdown",
   "metadata": {},
   "source": [
    "#### Date & Time processing"
   ]
  },
  {
   "cell_type": "code",
   "execution_count": 4,
   "metadata": {},
   "outputs": [],
   "source": [
    "data['year'],data['month'],data['day'] = data[\"date\"].str.split(\"-\").str\n",
    "data['year'] = data['year'].astype(int)\n",
    "data['month'] = data['month'].astype(int)\n",
    "data['day'] = data['day'].astype(int)\n",
    "data['hour'],data['minute'],data['second'] = data[\"time\"].str.split(\":\").str\n",
    "data['hour'] = data['hour'].astype(int)\n",
    "data['minute'] = data['minute'].astype(int)\n",
    "data['second'] = data['second'].astype(int)\n",
    "data['date'] = pd.to_datetime(data['date'], format = \"%Y-%m-%d\")\n",
    "data['time'] = pd.to_datetime(data['time'], format = \"%H:%M:%S\")\n",
    "data['time'] = data[\"time\"].dt.time"
   ]
  },
  {
   "cell_type": "code",
   "execution_count": 5,
   "metadata": {},
   "outputs": [
    {
     "data": {
      "text/plain": [
       "'2013-01-01'"
      ]
     },
     "execution_count": 5,
     "metadata": {},
     "output_type": "execute_result"
    }
   ],
   "source": [
    "data['date'].dt.strftime('%Y-%m-%d').iloc[0]"
   ]
  },
  {
   "cell_type": "code",
   "execution_count": 6,
   "metadata": {},
   "outputs": [
    {
     "data": {
      "text/plain": [
       "Timestamp('2013-01-01 00:00:00')"
      ]
     },
     "execution_count": 6,
     "metadata": {},
     "output_type": "execute_result"
    }
   ],
   "source": [
    "data['date'].iloc[0]"
   ]
  },
  {
   "cell_type": "code",
   "execution_count": 7,
   "metadata": {},
   "outputs": [],
   "source": [
    "data['datetime'] = data['date'].dt.strftime('%Y-%m-%d') + ' ' + data['time'].map(str)\n",
    "data['datetime'] = pd.to_datetime(data['datetime'], format = \"%Y-%m-%d %H:%M:%S\")"
   ]
  },
  {
   "cell_type": "markdown",
   "metadata": {},
   "source": [
    "#### Missing data state"
   ]
  },
  {
   "cell_type": "code",
   "execution_count": 8,
   "metadata": {},
   "outputs": [
    {
     "name": "stdout",
     "output_type": "stream",
     "text": [
      "missing data in co2 : 6397 i.e. 0.0009128399783098832%\n",
      "missing data in humi : 3107 i.e. 0.00044336310967778763%\n",
      "missing data in no : 17234 i.e. 0.0024592596820685523%\n",
      "missing data in no2 : 8799 i.e. 0.0012556009018522218%\n",
      "missing data in pm10 : 6162 i.e. 0.0008793059162647336%\n",
      "missing data in pm2.5 : 38523 i.e. 0.005497160307086389%\n",
      "missing data in station : 0 i.e. 0.0%\n",
      "missing data in temp : 3131 i.e. 0.00044678786495048377%\n",
      "missing data in date : 0 i.e. 0.0%\n",
      "missing data in time : 0 i.e. 0.0%\n",
      "missing data in precipitation : 96 i.e. 1.3699021090784554e-05%\n",
      "missing data in temp_min : 96 i.e. 1.3699021090784554e-05%\n",
      "missing data in temp_max : 96 i.e. 1.3699021090784554e-05%\n",
      "missing data in 1 : 0 i.e. 0.0%\n",
      "missing data in 11 : 0 i.e. 0.0%\n",
      "missing data in 14 : 0 i.e. 0.0%\n",
      "missing data in 3 : 0 i.e. 0.0%\n",
      "missing data in 4 : 0 i.e. 0.0%\n",
      "missing data in 7 : 0 i.e. 0.0%\n",
      "missing data in 9 : 0 i.e. 0.0%\n",
      "missing data in a : 0 i.e. 0.0%\n",
      "missing data in b : 0 i.e. 0.0%\n",
      "missing data in year : 0 i.e. 0.0%\n",
      "missing data in month : 0 i.e. 0.0%\n",
      "missing data in day : 0 i.e. 0.0%\n",
      "missing data in hour : 0 i.e. 0.0%\n",
      "missing data in minute : 0 i.e. 0.0%\n",
      "missing data in second : 0 i.e. 0.0%\n",
      "missing data in datetime : 0 i.e. 0.0%\n"
     ]
    }
   ],
   "source": [
    "for col in data.columns:\n",
    "    print(\"missing data in {} : {} i.e. {}%\".format(col,len(data[data[col].isnull()]),\n",
    "                                                       len(data[data[col].isnull()])/float(len(data)*100)))"
   ]
  },
  {
   "cell_type": "markdown",
   "metadata": {},
   "source": [
    "Les colonnes possédant le plus de valeurs manquantes : no, pm10, pm2.5,co2  \n",
    "WARNING no missing data in timetable, stations ect... because I(romain) generated the data"
   ]
  },
  {
   "cell_type": "code",
   "execution_count": 9,
   "metadata": {},
   "outputs": [
    {
     "name": "stdout",
     "output_type": "stream",
     "text": [
      "3070\n"
     ]
    }
   ],
   "source": [
    "print(len(data[data[\"co2\"].isnull() & \n",
    "                        data[\"humi\"].isnull() &\n",
    "                        data[\"no\"].isnull() & \n",
    "                        data[\"no2\"].isnull() &\n",
    "                        data[\"pm10\"].isnull() & \n",
    "                        data[\"pm2.5\"].isnull() & \n",
    "                        data[\"no2\"].isnull() & \n",
    "                       data[\"temp\"].isnull()]))"
   ]
  },
  {
   "cell_type": "code",
   "execution_count": 10,
   "metadata": {},
   "outputs": [
    {
     "data": {
      "text/html": [
       "<div>\n",
       "<style scoped>\n",
       "    .dataframe tbody tr th:only-of-type {\n",
       "        vertical-align: middle;\n",
       "    }\n",
       "\n",
       "    .dataframe tbody tr th {\n",
       "        vertical-align: top;\n",
       "    }\n",
       "\n",
       "    .dataframe thead th {\n",
       "        text-align: right;\n",
       "    }\n",
       "</style>\n",
       "<table border=\"1\" class=\"dataframe\">\n",
       "  <thead>\n",
       "    <tr style=\"text-align: right;\">\n",
       "      <th></th>\n",
       "      <th>co2</th>\n",
       "      <th>humi</th>\n",
       "      <th>no</th>\n",
       "      <th>no2</th>\n",
       "      <th>pm10</th>\n",
       "      <th>pm2.5</th>\n",
       "      <th>station</th>\n",
       "      <th>temp</th>\n",
       "      <th>date</th>\n",
       "      <th>time</th>\n",
       "      <th>...</th>\n",
       "      <th>9</th>\n",
       "      <th>a</th>\n",
       "      <th>b</th>\n",
       "      <th>year</th>\n",
       "      <th>month</th>\n",
       "      <th>day</th>\n",
       "      <th>hour</th>\n",
       "      <th>minute</th>\n",
       "      <th>second</th>\n",
       "      <th>datetime</th>\n",
       "    </tr>\n",
       "  </thead>\n",
       "  <tbody>\n",
       "    <tr>\n",
       "      <th>0</th>\n",
       "      <td>403.0</td>\n",
       "      <td>51.2</td>\n",
       "      <td>NaN</td>\n",
       "      <td>NaN</td>\n",
       "      <td>295.0</td>\n",
       "      <td>118.0</td>\n",
       "      <td>auber</td>\n",
       "      <td>20.4</td>\n",
       "      <td>2013-01-01</td>\n",
       "      <td>10:00:00</td>\n",
       "      <td>...</td>\n",
       "      <td>402.0</td>\n",
       "      <td>95.0</td>\n",
       "      <td>0.0</td>\n",
       "      <td>2013</td>\n",
       "      <td>1</td>\n",
       "      <td>1</td>\n",
       "      <td>10</td>\n",
       "      <td>0</td>\n",
       "      <td>0</td>\n",
       "      <td>2013-01-01 10:00:00</td>\n",
       "    </tr>\n",
       "    <tr>\n",
       "      <th>1</th>\n",
       "      <td>767.0</td>\n",
       "      <td>46.4</td>\n",
       "      <td>99.0</td>\n",
       "      <td>54.0</td>\n",
       "      <td>362.0</td>\n",
       "      <td>110.0</td>\n",
       "      <td>auber</td>\n",
       "      <td>18.3</td>\n",
       "      <td>2013-01-15</td>\n",
       "      <td>10:00:00</td>\n",
       "      <td>...</td>\n",
       "      <td>402.0</td>\n",
       "      <td>95.0</td>\n",
       "      <td>0.0</td>\n",
       "      <td>2013</td>\n",
       "      <td>1</td>\n",
       "      <td>15</td>\n",
       "      <td>10</td>\n",
       "      <td>0</td>\n",
       "      <td>0</td>\n",
       "      <td>2013-01-15 10:00:00</td>\n",
       "    </tr>\n",
       "    <tr>\n",
       "      <th>2</th>\n",
       "      <td>495.0</td>\n",
       "      <td>45.0</td>\n",
       "      <td>68.0</td>\n",
       "      <td>45.0</td>\n",
       "      <td>117.0</td>\n",
       "      <td>36.0</td>\n",
       "      <td>auber</td>\n",
       "      <td>18.7</td>\n",
       "      <td>2013-01-12</td>\n",
       "      <td>10:00:00</td>\n",
       "      <td>...</td>\n",
       "      <td>402.0</td>\n",
       "      <td>95.0</td>\n",
       "      <td>0.0</td>\n",
       "      <td>2013</td>\n",
       "      <td>1</td>\n",
       "      <td>12</td>\n",
       "      <td>10</td>\n",
       "      <td>0</td>\n",
       "      <td>0</td>\n",
       "      <td>2013-01-12 10:00:00</td>\n",
       "    </tr>\n",
       "    <tr>\n",
       "      <th>3</th>\n",
       "      <td>708.0</td>\n",
       "      <td>45.3</td>\n",
       "      <td>90.0</td>\n",
       "      <td>40.0</td>\n",
       "      <td>234.0</td>\n",
       "      <td>73.0</td>\n",
       "      <td>auber</td>\n",
       "      <td>19.5</td>\n",
       "      <td>2013-01-09</td>\n",
       "      <td>10:00:00</td>\n",
       "      <td>...</td>\n",
       "      <td>402.0</td>\n",
       "      <td>95.0</td>\n",
       "      <td>0.0</td>\n",
       "      <td>2013</td>\n",
       "      <td>1</td>\n",
       "      <td>9</td>\n",
       "      <td>10</td>\n",
       "      <td>0</td>\n",
       "      <td>0</td>\n",
       "      <td>2013-01-09 10:00:00</td>\n",
       "    </tr>\n",
       "    <tr>\n",
       "      <th>4</th>\n",
       "      <td>749.0</td>\n",
       "      <td>41.8</td>\n",
       "      <td>213.0</td>\n",
       "      <td>62.0</td>\n",
       "      <td>314.0</td>\n",
       "      <td>112.0</td>\n",
       "      <td>auber</td>\n",
       "      <td>17.5</td>\n",
       "      <td>2013-01-16</td>\n",
       "      <td>10:00:00</td>\n",
       "      <td>...</td>\n",
       "      <td>402.0</td>\n",
       "      <td>95.0</td>\n",
       "      <td>0.0</td>\n",
       "      <td>2013</td>\n",
       "      <td>1</td>\n",
       "      <td>16</td>\n",
       "      <td>10</td>\n",
       "      <td>0</td>\n",
       "      <td>0</td>\n",
       "      <td>2013-01-16 10:00:00</td>\n",
       "    </tr>\n",
       "  </tbody>\n",
       "</table>\n",
       "<p>5 rows × 29 columns</p>\n",
       "</div>"
      ],
      "text/plain": [
       "     co2  humi     no   no2   pm10  pm2.5 station  temp       date      time  \\\n",
       "0  403.0  51.2    NaN   NaN  295.0  118.0   auber  20.4 2013-01-01  10:00:00   \n",
       "1  767.0  46.4   99.0  54.0  362.0  110.0   auber  18.3 2013-01-15  10:00:00   \n",
       "2  495.0  45.0   68.0  45.0  117.0   36.0   auber  18.7 2013-01-12  10:00:00   \n",
       "3  708.0  45.3   90.0  40.0  234.0   73.0   auber  19.5 2013-01-09  10:00:00   \n",
       "4  749.0  41.8  213.0  62.0  314.0  112.0   auber  17.5 2013-01-16  10:00:00   \n",
       "\n",
       "          ...              9     a    b  year  month  day  hour  minute  \\\n",
       "0         ...          402.0  95.0  0.0  2013      1    1    10       0   \n",
       "1         ...          402.0  95.0  0.0  2013      1   15    10       0   \n",
       "2         ...          402.0  95.0  0.0  2013      1   12    10       0   \n",
       "3         ...          402.0  95.0  0.0  2013      1    9    10       0   \n",
       "4         ...          402.0  95.0  0.0  2013      1   16    10       0   \n",
       "\n",
       "   second            datetime  \n",
       "0       0 2013-01-01 10:00:00  \n",
       "1       0 2013-01-15 10:00:00  \n",
       "2       0 2013-01-12 10:00:00  \n",
       "3       0 2013-01-09 10:00:00  \n",
       "4       0 2013-01-16 10:00:00  \n",
       "\n",
       "[5 rows x 29 columns]"
      ]
     },
     "execution_count": 10,
     "metadata": {},
     "output_type": "execute_result"
    }
   ],
   "source": [
    "data.head()"
   ]
  },
  {
   "cell_type": "markdown",
   "metadata": {},
   "source": [
    "For 15860 raws, data is missing for almost all sensors (except rain) -> remove all these rows"
   ]
  },
  {
   "cell_type": "markdown",
   "metadata": {},
   "source": [
    "### Missing data arrays"
   ]
  },
  {
   "cell_type": "code",
   "execution_count": 11,
   "metadata": {},
   "outputs": [
    {
     "data": {
      "text/html": [
       "<div>\n",
       "<style scoped>\n",
       "    .dataframe tbody tr th:only-of-type {\n",
       "        vertical-align: middle;\n",
       "    }\n",
       "\n",
       "    .dataframe tbody tr th {\n",
       "        vertical-align: top;\n",
       "    }\n",
       "\n",
       "    .dataframe thead th {\n",
       "        text-align: right;\n",
       "    }\n",
       "</style>\n",
       "<table border=\"1\" class=\"dataframe\">\n",
       "  <thead>\n",
       "    <tr style=\"text-align: right;\">\n",
       "      <th></th>\n",
       "      <th>co2</th>\n",
       "      <th>humi</th>\n",
       "      <th>no</th>\n",
       "      <th>no2</th>\n",
       "      <th>pm10</th>\n",
       "      <th>pm2.5</th>\n",
       "      <th>station</th>\n",
       "      <th>temp</th>\n",
       "      <th>date</th>\n",
       "      <th>time</th>\n",
       "      <th>...</th>\n",
       "      <th>9</th>\n",
       "      <th>a</th>\n",
       "      <th>b</th>\n",
       "      <th>year</th>\n",
       "      <th>month</th>\n",
       "      <th>day</th>\n",
       "      <th>hour</th>\n",
       "      <th>minute</th>\n",
       "      <th>second</th>\n",
       "      <th>datetime</th>\n",
       "    </tr>\n",
       "  </thead>\n",
       "  <tbody>\n",
       "    <tr>\n",
       "      <th>0</th>\n",
       "      <td>403.0</td>\n",
       "      <td>51.2</td>\n",
       "      <td>NaN</td>\n",
       "      <td>NaN</td>\n",
       "      <td>295.0</td>\n",
       "      <td>118.0</td>\n",
       "      <td>auber</td>\n",
       "      <td>20.4</td>\n",
       "      <td>2013-01-01</td>\n",
       "      <td>10:00:00</td>\n",
       "      <td>...</td>\n",
       "      <td>402.0</td>\n",
       "      <td>95.0</td>\n",
       "      <td>0.0</td>\n",
       "      <td>2013</td>\n",
       "      <td>1</td>\n",
       "      <td>1</td>\n",
       "      <td>10</td>\n",
       "      <td>0</td>\n",
       "      <td>0</td>\n",
       "      <td>2013-01-01 10:00:00</td>\n",
       "    </tr>\n",
       "    <tr>\n",
       "      <th>5</th>\n",
       "      <td>NaN</td>\n",
       "      <td>44.2</td>\n",
       "      <td>235.0</td>\n",
       "      <td>48.0</td>\n",
       "      <td>654.0</td>\n",
       "      <td>254.0</td>\n",
       "      <td>auber</td>\n",
       "      <td>17.8</td>\n",
       "      <td>2013-01-17</td>\n",
       "      <td>10:00:00</td>\n",
       "      <td>...</td>\n",
       "      <td>402.0</td>\n",
       "      <td>95.0</td>\n",
       "      <td>0.0</td>\n",
       "      <td>2013</td>\n",
       "      <td>1</td>\n",
       "      <td>17</td>\n",
       "      <td>10</td>\n",
       "      <td>0</td>\n",
       "      <td>0</td>\n",
       "      <td>2013-01-17 10:00:00</td>\n",
       "    </tr>\n",
       "    <tr>\n",
       "      <th>8</th>\n",
       "      <td>590.0</td>\n",
       "      <td>52.2</td>\n",
       "      <td>NaN</td>\n",
       "      <td>NaN</td>\n",
       "      <td>911.0</td>\n",
       "      <td>374.0</td>\n",
       "      <td>auber</td>\n",
       "      <td>21.6</td>\n",
       "      <td>2013-01-04</td>\n",
       "      <td>10:00:00</td>\n",
       "      <td>...</td>\n",
       "      <td>402.0</td>\n",
       "      <td>95.0</td>\n",
       "      <td>0.0</td>\n",
       "      <td>2013</td>\n",
       "      <td>1</td>\n",
       "      <td>4</td>\n",
       "      <td>10</td>\n",
       "      <td>0</td>\n",
       "      <td>0</td>\n",
       "      <td>2013-01-04 10:00:00</td>\n",
       "    </tr>\n",
       "    <tr>\n",
       "      <th>16</th>\n",
       "      <td>616.0</td>\n",
       "      <td>48.2</td>\n",
       "      <td>NaN</td>\n",
       "      <td>NaN</td>\n",
       "      <td>857.0</td>\n",
       "      <td>306.0</td>\n",
       "      <td>auber</td>\n",
       "      <td>20.4</td>\n",
       "      <td>2013-01-02</td>\n",
       "      <td>10:00:00</td>\n",
       "      <td>...</td>\n",
       "      <td>402.0</td>\n",
       "      <td>95.0</td>\n",
       "      <td>0.0</td>\n",
       "      <td>2013</td>\n",
       "      <td>1</td>\n",
       "      <td>2</td>\n",
       "      <td>10</td>\n",
       "      <td>0</td>\n",
       "      <td>0</td>\n",
       "      <td>2013-01-02 10:00:00</td>\n",
       "    </tr>\n",
       "    <tr>\n",
       "      <th>19</th>\n",
       "      <td>663.0</td>\n",
       "      <td>52.6</td>\n",
       "      <td>NaN</td>\n",
       "      <td>NaN</td>\n",
       "      <td>633.0</td>\n",
       "      <td>247.0</td>\n",
       "      <td>auber</td>\n",
       "      <td>21.0</td>\n",
       "      <td>2013-01-03</td>\n",
       "      <td>10:00:00</td>\n",
       "      <td>...</td>\n",
       "      <td>402.0</td>\n",
       "      <td>95.0</td>\n",
       "      <td>0.0</td>\n",
       "      <td>2013</td>\n",
       "      <td>1</td>\n",
       "      <td>3</td>\n",
       "      <td>10</td>\n",
       "      <td>0</td>\n",
       "      <td>0</td>\n",
       "      <td>2013-01-03 10:00:00</td>\n",
       "    </tr>\n",
       "  </tbody>\n",
       "</table>\n",
       "<p>5 rows × 29 columns</p>\n",
       "</div>"
      ],
      "text/plain": [
       "      co2  humi     no   no2   pm10  pm2.5 station  temp       date      time  \\\n",
       "0   403.0  51.2    NaN   NaN  295.0  118.0   auber  20.4 2013-01-01  10:00:00   \n",
       "5     NaN  44.2  235.0  48.0  654.0  254.0   auber  17.8 2013-01-17  10:00:00   \n",
       "8   590.0  52.2    NaN   NaN  911.0  374.0   auber  21.6 2013-01-04  10:00:00   \n",
       "16  616.0  48.2    NaN   NaN  857.0  306.0   auber  20.4 2013-01-02  10:00:00   \n",
       "19  663.0  52.6    NaN   NaN  633.0  247.0   auber  21.0 2013-01-03  10:00:00   \n",
       "\n",
       "           ...              9     a    b  year  month  day  hour  minute  \\\n",
       "0          ...          402.0  95.0  0.0  2013      1    1    10       0   \n",
       "5          ...          402.0  95.0  0.0  2013      1   17    10       0   \n",
       "8          ...          402.0  95.0  0.0  2013      1    4    10       0   \n",
       "16         ...          402.0  95.0  0.0  2013      1    2    10       0   \n",
       "19         ...          402.0  95.0  0.0  2013      1    3    10       0   \n",
       "\n",
       "    second            datetime  \n",
       "0        0 2013-01-01 10:00:00  \n",
       "5        0 2013-01-17 10:00:00  \n",
       "8        0 2013-01-04 10:00:00  \n",
       "16       0 2013-01-02 10:00:00  \n",
       "19       0 2013-01-03 10:00:00  \n",
       "\n",
       "[5 rows x 29 columns]"
      ]
     },
     "execution_count": 11,
     "metadata": {},
     "output_type": "execute_result"
    }
   ],
   "source": [
    "missing_data = data[data[\"co2\"].isnull() | \n",
    "                        data[\"humi\"].isnull() |\n",
    "                        data[\"no\"].isnull() | \n",
    "                        data[\"no2\"].isnull() |\n",
    "                        data[\"pm10\"].isnull() | \n",
    "                        data[\"pm2.5\"].isnull() |\n",
    "                       data[\"temp\"].isnull()]\n",
    "missing_data.head()"
   ]
  },
  {
   "cell_type": "code",
   "execution_count": 12,
   "metadata": {},
   "outputs": [
    {
     "data": {
      "text/plain": [
       "<matplotlib.axes._subplots.AxesSubplot at 0x16d73d685f8>"
      ]
     },
     "execution_count": 12,
     "metadata": {},
     "output_type": "execute_result"
    },
    {
     "data": {
      "image/png": "[encoded data removed]",
      "text/plain": [
       "<matplotlib.figure.Figure at 0x16d748d8a90>"
      ]
     },
     "metadata": {},
     "output_type": "display_data"
    }
   ],
   "source": [
    "fig, ax = plt.subplots(figsize=(13,4))\n",
    "sns.distplot(missing_data[missing_data['station'] == 'auber']['month'], ax = ax, kde = False, color='blue')\n",
    "sns.distplot(missing_data[missing_data['station'] == 'chatelet']['month'], ax = ax, kde = False, color='red')\n",
    "sns.distplot(missing_data[missing_data['station'] == 'franklin']['month'], ax = ax, kde = False, color='green')"
   ]
  },
  {
   "cell_type": "markdown",
   "metadata": {},
   "source": [
    "\n",
    "\n",
    "Discrepancies in missing data between the stations. Seems like Chatelet station is lacking a lot of data. "
   ]
  },
  {
   "cell_type": "code",
   "execution_count": 13,
   "metadata": {},
   "outputs": [
    {
     "data": {
      "image/png": "[encoded data removed]",
      "text/plain": [
       "<matplotlib.figure.Figure at 0x16d65e86748>"
      ]
     },
     "metadata": {},
     "output_type": "display_data"
    }
   ],
   "source": [
    "fig, ax = plt.subplots(figsize=(4,3))\n",
    "ax = sns.countplot(ax=ax,data = missing_data,x=\"station\")"
   ]
  },
  {
   "cell_type": "code",
   "execution_count": 14,
   "metadata": {},
   "outputs": [],
   "source": [
    "data_2013 = data[data['date'] < \"2013-12-31\"]"
   ]
  },
  {
   "cell_type": "code",
   "execution_count": 15,
   "metadata": {},
   "outputs": [],
   "source": [
    "missing_data_2013 = missing_data[missing_data['date'] < \"2014-01-01\"]\n",
    "missing_data_2014 = missing_data[missing_data['date'] < \"2015-01-01\"]\n",
    "missing_data_2014 = missing_data_2014[missing_data_2014['date'] > \"2013-12-31\"]\n",
    "missing_data_2015 = missing_data[missing_data['date'] < \"2016-01-01\"]\n",
    "missing_data_2015 = missing_data_2015[missing_data_2015['date'] > \"2014-12-31\"]\n",
    "missing_data_2016 = missing_data[missing_data['date'] < \"2017-01-01\"]\n",
    "missing_data_2016 = missing_data_2016[missing_data_2016['date'] > \"2015-12-31\"]\n",
    "missing_data_2017 = missing_data[missing_data['date'] < \"2018-01-01\"]\n",
    "missing_data_2017 = missing_data_2017[missing_data_2017['date'] > \"2016-12-31\"]"
   ]
  },
  {
   "cell_type": "code",
   "execution_count": 16,
   "metadata": {},
   "outputs": [
    {
     "data": {
      "text/plain": [
       "Text(0.5,1,'2016')"
      ]
     },
     "execution_count": 16,
     "metadata": {},
     "output_type": "execute_result"
    },
    {
     "data": {
      "image/png": "[encoded data removed]",
      "text/plain": [
       "<matplotlib.figure.Figure at 0x16d748ac160>"
      ]
     },
     "metadata": {},
     "output_type": "display_data"
    },
    {
     "data": {
      "image/png": "[encoded data removed]",
      "text/plain": [
       "<matplotlib.figure.Figure at 0x16d748ac128>"
      ]
     },
     "metadata": {},
     "output_type": "display_data"
    },
    {
     "data": {
      "image/png": "[encoded data removed]",
      "text/plain": [
       "<matplotlib.figure.Figure at 0x16d74883668>"
      ]
     },
     "metadata": {},
     "output_type": "display_data"
    },
    {
     "data": {
      "image/png": "[encoded data removed]",
      "text/plain": [
       "<matplotlib.figure.Figure at 0x16d71ee00b8>"
      ]
     },
     "metadata": {},
     "output_type": "display_data"
    }
   ],
   "source": [
    "\n",
    "#2013\n",
    "fig, ax = plt.subplots(figsize=(8,4))\n",
    "sns.distplot(missing_data_2013[missing_data_2013['station'] == 'auber']['month'], ax = ax, kde = False, color='blue', label = 'Auber')\n",
    "sns.distplot(missing_data_2013[missing_data_2013['station'] == 'chatelet']['month'], ax = ax, kde = False, color='red')\n",
    "sns.distplot(missing_data_2013[missing_data_2013['station'] == 'franklin']['month'], ax = ax, kde = False, color='green')\n",
    "plt.title('2013')\n",
    "\n",
    "#2014\n",
    "fig, ax = plt.subplots(figsize=(8,4))\n",
    "sns.distplot(missing_data_2014[missing_data_2014['station'] == 'auber']['month'], ax = ax, kde = False, color='blue', label = 'Auber')\n",
    "sns.distplot(missing_data_2014[missing_data_2014['station'] == 'chatelet']['month'], ax = ax, kde = False, color='red')\n",
    "sns.distplot(missing_data_2014[missing_data_2014['station'] == 'franklin']['month'], ax = ax, kde = False, color='green')\n",
    "plt.title('2014')\n",
    "\n",
    "#2015\n",
    "fig, ax = plt.subplots(figsize=(8,4))\n",
    "sns.distplot(missing_data_2015[missing_data_2015['station'] == 'auber']['month'], ax = ax, kde = False, color='blue', label = 'Auber')\n",
    "sns.distplot(missing_data_2015[missing_data_2015['station'] == 'chatelet']['month'], ax = ax, kde = False, color='red')\n",
    "sns.distplot(missing_data_2015[missing_data_2015['station'] == 'franklin']['month'], ax = ax, kde = False, color='green')\n",
    "plt.title('2015')\n",
    "\n",
    "#2016\n",
    "fig, ax = plt.subplots(figsize=(8,4))\n",
    "sns.distplot(missing_data_2016[missing_data_2016['station'] == 'auber']['month'], ax = ax, kde = False, color='blue', label = 'Auber')\n",
    "sns.distplot(missing_data_2016[missing_data_2016['station'] == 'chatelet']['month'], ax = ax, kde = False, color='red')\n",
    "sns.distplot(missing_data_2016[missing_data_2016['station'] == 'franklin']['month'], ax = ax, kde = False, color='green')\n",
    "plt.title('2016')"
   ]
  },
  {
   "cell_type": "markdown",
   "metadata": {},
   "source": [
    "Quantité d'informations manquantes similaires d'année en année en moyenne.\n",
    "Pas de saisonnalité dans les données manquantes de Chatelet et Franklin. \n",
    "En revanche, évolution au cours de l'année pour Auber. Cette fois-ci le comportement varie d'une année sur l'autre. Certains années, la majorite des données manquantes apparaît autour des mois de l'été, d'autres années, non. \n",
    "Ainsi si l'on met de côté Chatelet et Franklin au vu de l'écart du montant des données manquantes, il ne nous reste qu'Auber. En ne gardant qu'Auber, il est judicieux de ne garder qu'une année en particulier pour faire un modèle car les scénarios sont différents"
   ]
  },
  {
   "cell_type": "markdown",
   "metadata": {},
   "source": [
    "### Plage des données manquantes"
   ]
  },
  {
   "cell_type": "code",
   "execution_count": 17,
   "metadata": {},
   "outputs": [
    {
     "data": {
      "text/html": [
       "<div>\n",
       "<style scoped>\n",
       "    .dataframe tbody tr th:only-of-type {\n",
       "        vertical-align: middle;\n",
       "    }\n",
       "\n",
       "    .dataframe tbody tr th {\n",
       "        vertical-align: top;\n",
       "    }\n",
       "\n",
       "    .dataframe thead th {\n",
       "        text-align: right;\n",
       "    }\n",
       "</style>\n",
       "<table border=\"1\" class=\"dataframe\">\n",
       "  <thead>\n",
       "    <tr style=\"text-align: right;\">\n",
       "      <th></th>\n",
       "      <th>co2</th>\n",
       "      <th>humi</th>\n",
       "      <th>no</th>\n",
       "      <th>no2</th>\n",
       "      <th>pm10</th>\n",
       "      <th>pm2.5</th>\n",
       "      <th>station</th>\n",
       "      <th>temp</th>\n",
       "      <th>date</th>\n",
       "      <th>time</th>\n",
       "      <th>...</th>\n",
       "      <th>9</th>\n",
       "      <th>a</th>\n",
       "      <th>b</th>\n",
       "      <th>year</th>\n",
       "      <th>month</th>\n",
       "      <th>day</th>\n",
       "      <th>hour</th>\n",
       "      <th>minute</th>\n",
       "      <th>second</th>\n",
       "      <th>datetime</th>\n",
       "    </tr>\n",
       "  </thead>\n",
       "  <tbody>\n",
       "    <tr>\n",
       "      <th>1053</th>\n",
       "      <td>NaN</td>\n",
       "      <td>NaN</td>\n",
       "      <td>NaN</td>\n",
       "      <td>NaN</td>\n",
       "      <td>NaN</td>\n",
       "      <td>NaN</td>\n",
       "      <td>auber</td>\n",
       "      <td>NaN</td>\n",
       "      <td>2016-07-30</td>\n",
       "      <td>10:00:00</td>\n",
       "      <td>...</td>\n",
       "      <td>402.0</td>\n",
       "      <td>95.0</td>\n",
       "      <td>0.0</td>\n",
       "      <td>2016</td>\n",
       "      <td>7</td>\n",
       "      <td>30</td>\n",
       "      <td>10</td>\n",
       "      <td>0</td>\n",
       "      <td>0</td>\n",
       "      <td>2016-07-30 10:00:00</td>\n",
       "    </tr>\n",
       "    <tr>\n",
       "      <th>1054</th>\n",
       "      <td>NaN</td>\n",
       "      <td>NaN</td>\n",
       "      <td>NaN</td>\n",
       "      <td>NaN</td>\n",
       "      <td>NaN</td>\n",
       "      <td>NaN</td>\n",
       "      <td>auber</td>\n",
       "      <td>NaN</td>\n",
       "      <td>2016-08-02</td>\n",
       "      <td>10:00:00</td>\n",
       "      <td>...</td>\n",
       "      <td>402.0</td>\n",
       "      <td>95.0</td>\n",
       "      <td>0.0</td>\n",
       "      <td>2016</td>\n",
       "      <td>8</td>\n",
       "      <td>2</td>\n",
       "      <td>10</td>\n",
       "      <td>0</td>\n",
       "      <td>0</td>\n",
       "      <td>2016-08-02 10:00:00</td>\n",
       "    </tr>\n",
       "    <tr>\n",
       "      <th>1067</th>\n",
       "      <td>NaN</td>\n",
       "      <td>NaN</td>\n",
       "      <td>NaN</td>\n",
       "      <td>NaN</td>\n",
       "      <td>NaN</td>\n",
       "      <td>NaN</td>\n",
       "      <td>auber</td>\n",
       "      <td>NaN</td>\n",
       "      <td>2016-08-10</td>\n",
       "      <td>10:00:00</td>\n",
       "      <td>...</td>\n",
       "      <td>402.0</td>\n",
       "      <td>95.0</td>\n",
       "      <td>0.0</td>\n",
       "      <td>2016</td>\n",
       "      <td>8</td>\n",
       "      <td>10</td>\n",
       "      <td>10</td>\n",
       "      <td>0</td>\n",
       "      <td>0</td>\n",
       "      <td>2016-08-10 10:00:00</td>\n",
       "    </tr>\n",
       "    <tr>\n",
       "      <th>1068</th>\n",
       "      <td>NaN</td>\n",
       "      <td>NaN</td>\n",
       "      <td>NaN</td>\n",
       "      <td>NaN</td>\n",
       "      <td>NaN</td>\n",
       "      <td>NaN</td>\n",
       "      <td>auber</td>\n",
       "      <td>NaN</td>\n",
       "      <td>2016-08-12</td>\n",
       "      <td>10:00:00</td>\n",
       "      <td>...</td>\n",
       "      <td>402.0</td>\n",
       "      <td>95.0</td>\n",
       "      <td>0.0</td>\n",
       "      <td>2016</td>\n",
       "      <td>8</td>\n",
       "      <td>12</td>\n",
       "      <td>10</td>\n",
       "      <td>0</td>\n",
       "      <td>0</td>\n",
       "      <td>2016-08-12 10:00:00</td>\n",
       "    </tr>\n",
       "    <tr>\n",
       "      <th>1069</th>\n",
       "      <td>NaN</td>\n",
       "      <td>NaN</td>\n",
       "      <td>NaN</td>\n",
       "      <td>NaN</td>\n",
       "      <td>NaN</td>\n",
       "      <td>NaN</td>\n",
       "      <td>auber</td>\n",
       "      <td>NaN</td>\n",
       "      <td>2016-08-13</td>\n",
       "      <td>10:00:00</td>\n",
       "      <td>...</td>\n",
       "      <td>402.0</td>\n",
       "      <td>95.0</td>\n",
       "      <td>0.0</td>\n",
       "      <td>2016</td>\n",
       "      <td>8</td>\n",
       "      <td>13</td>\n",
       "      <td>10</td>\n",
       "      <td>0</td>\n",
       "      <td>0</td>\n",
       "      <td>2016-08-13 10:00:00</td>\n",
       "    </tr>\n",
       "  </tbody>\n",
       "</table>\n",
       "<p>5 rows × 29 columns</p>\n",
       "</div>"
      ],
      "text/plain": [
       "      co2  humi  no  no2  pm10  pm2.5 station  temp       date      time  \\\n",
       "1053  NaN   NaN NaN  NaN   NaN    NaN   auber   NaN 2016-07-30  10:00:00   \n",
       "1054  NaN   NaN NaN  NaN   NaN    NaN   auber   NaN 2016-08-02  10:00:00   \n",
       "1067  NaN   NaN NaN  NaN   NaN    NaN   auber   NaN 2016-08-10  10:00:00   \n",
       "1068  NaN   NaN NaN  NaN   NaN    NaN   auber   NaN 2016-08-12  10:00:00   \n",
       "1069  NaN   NaN NaN  NaN   NaN    NaN   auber   NaN 2016-08-13  10:00:00   \n",
       "\n",
       "             ...              9     a    b  year  month  day  hour  minute  \\\n",
       "1053         ...          402.0  95.0  0.0  2016      7   30    10       0   \n",
       "1054         ...          402.0  95.0  0.0  2016      8    2    10       0   \n",
       "1067         ...          402.0  95.0  0.0  2016      8   10    10       0   \n",
       "1068         ...          402.0  95.0  0.0  2016      8   12    10       0   \n",
       "1069         ...          402.0  95.0  0.0  2016      8   13    10       0   \n",
       "\n",
       "      second            datetime  \n",
       "1053       0 2016-07-30 10:00:00  \n",
       "1054       0 2016-08-02 10:00:00  \n",
       "1067       0 2016-08-10 10:00:00  \n",
       "1068       0 2016-08-12 10:00:00  \n",
       "1069       0 2016-08-13 10:00:00  \n",
       "\n",
       "[5 rows x 29 columns]"
      ]
     },
     "execution_count": 17,
     "metadata": {},
     "output_type": "execute_result"
    }
   ],
   "source": [
    "missing_data_2016_auber = missing_data_2016[missing_data_2016[\"station\"] == \"auber\"]\n",
    "missing_data_2016_auber.head()"
   ]
  },
  {
   "cell_type": "raw",
   "metadata": {},
   "source": [
    "Création d'une nouvelle colonne avec une valeur binaire (0, si la donnée est manquante et 1 sinon)"
   ]
  },
  {
   "cell_type": "code",
   "execution_count": 18,
   "metadata": {},
   "outputs": [
    {
     "name": "stderr",
     "output_type": "stream",
     "text": [
      "c:\\program files\\python36\\lib\\site-packages\\ipykernel_launcher.py:3: SettingWithCopyWarning: \n",
      "A value is trying to be set on a copy of a slice from a DataFrame\n",
      "\n",
      "See the caveats in the documentation: http://pandas.pydata.org/pandas-docs/stable/indexing.html#indexing-view-versus-copy\n",
      "  This is separate from the ipykernel package so we can avoid doing imports until\n"
     ]
    }
   ],
   "source": [
    "data[\"a\"]=1\n",
    "# 1 si donnees\n",
    "data[\"a\"][data[\"co2\"].isnull()] = 0"
   ]
  },
  {
   "cell_type": "code",
   "execution_count": 19,
   "metadata": {},
   "outputs": [
    {
     "data": {
      "text/html": [
       "<div>\n",
       "<style scoped>\n",
       "    .dataframe tbody tr th:only-of-type {\n",
       "        vertical-align: middle;\n",
       "    }\n",
       "\n",
       "    .dataframe tbody tr th {\n",
       "        vertical-align: top;\n",
       "    }\n",
       "\n",
       "    .dataframe thead th {\n",
       "        text-align: right;\n",
       "    }\n",
       "</style>\n",
       "<table border=\"1\" class=\"dataframe\">\n",
       "  <thead>\n",
       "    <tr style=\"text-align: right;\">\n",
       "      <th></th>\n",
       "      <th>co2</th>\n",
       "      <th>humi</th>\n",
       "      <th>no</th>\n",
       "      <th>no2</th>\n",
       "      <th>pm10</th>\n",
       "      <th>pm2.5</th>\n",
       "      <th>station</th>\n",
       "      <th>temp</th>\n",
       "      <th>date</th>\n",
       "      <th>time</th>\n",
       "      <th>...</th>\n",
       "      <th>9</th>\n",
       "      <th>a</th>\n",
       "      <th>b</th>\n",
       "      <th>year</th>\n",
       "      <th>month</th>\n",
       "      <th>day</th>\n",
       "      <th>hour</th>\n",
       "      <th>minute</th>\n",
       "      <th>second</th>\n",
       "      <th>datetime</th>\n",
       "    </tr>\n",
       "  </thead>\n",
       "  <tbody>\n",
       "    <tr>\n",
       "      <th>0</th>\n",
       "      <td>403.0</td>\n",
       "      <td>51.2</td>\n",
       "      <td>NaN</td>\n",
       "      <td>NaN</td>\n",
       "      <td>295.0</td>\n",
       "      <td>118.0</td>\n",
       "      <td>auber</td>\n",
       "      <td>20.4</td>\n",
       "      <td>2013-01-01</td>\n",
       "      <td>10:00:00</td>\n",
       "      <td>...</td>\n",
       "      <td>402.0</td>\n",
       "      <td>1</td>\n",
       "      <td>0.0</td>\n",
       "      <td>2013</td>\n",
       "      <td>1</td>\n",
       "      <td>1</td>\n",
       "      <td>10</td>\n",
       "      <td>0</td>\n",
       "      <td>0</td>\n",
       "      <td>2013-01-01 10:00:00</td>\n",
       "    </tr>\n",
       "    <tr>\n",
       "      <th>1</th>\n",
       "      <td>767.0</td>\n",
       "      <td>46.4</td>\n",
       "      <td>99.0</td>\n",
       "      <td>54.0</td>\n",
       "      <td>362.0</td>\n",
       "      <td>110.0</td>\n",
       "      <td>auber</td>\n",
       "      <td>18.3</td>\n",
       "      <td>2013-01-15</td>\n",
       "      <td>10:00:00</td>\n",
       "      <td>...</td>\n",
       "      <td>402.0</td>\n",
       "      <td>1</td>\n",
       "      <td>0.0</td>\n",
       "      <td>2013</td>\n",
       "      <td>1</td>\n",
       "      <td>15</td>\n",
       "      <td>10</td>\n",
       "      <td>0</td>\n",
       "      <td>0</td>\n",
       "      <td>2013-01-15 10:00:00</td>\n",
       "    </tr>\n",
       "    <tr>\n",
       "      <th>2</th>\n",
       "      <td>495.0</td>\n",
       "      <td>45.0</td>\n",
       "      <td>68.0</td>\n",
       "      <td>45.0</td>\n",
       "      <td>117.0</td>\n",
       "      <td>36.0</td>\n",
       "      <td>auber</td>\n",
       "      <td>18.7</td>\n",
       "      <td>2013-01-12</td>\n",
       "      <td>10:00:00</td>\n",
       "      <td>...</td>\n",
       "      <td>402.0</td>\n",
       "      <td>1</td>\n",
       "      <td>0.0</td>\n",
       "      <td>2013</td>\n",
       "      <td>1</td>\n",
       "      <td>12</td>\n",
       "      <td>10</td>\n",
       "      <td>0</td>\n",
       "      <td>0</td>\n",
       "      <td>2013-01-12 10:00:00</td>\n",
       "    </tr>\n",
       "    <tr>\n",
       "      <th>3</th>\n",
       "      <td>708.0</td>\n",
       "      <td>45.3</td>\n",
       "      <td>90.0</td>\n",
       "      <td>40.0</td>\n",
       "      <td>234.0</td>\n",
       "      <td>73.0</td>\n",
       "      <td>auber</td>\n",
       "      <td>19.5</td>\n",
       "      <td>2013-01-09</td>\n",
       "      <td>10:00:00</td>\n",
       "      <td>...</td>\n",
       "      <td>402.0</td>\n",
       "      <td>1</td>\n",
       "      <td>0.0</td>\n",
       "      <td>2013</td>\n",
       "      <td>1</td>\n",
       "      <td>9</td>\n",
       "      <td>10</td>\n",
       "      <td>0</td>\n",
       "      <td>0</td>\n",
       "      <td>2013-01-09 10:00:00</td>\n",
       "    </tr>\n",
       "    <tr>\n",
       "      <th>4</th>\n",
       "      <td>749.0</td>\n",
       "      <td>41.8</td>\n",
       "      <td>213.0</td>\n",
       "      <td>62.0</td>\n",
       "      <td>314.0</td>\n",
       "      <td>112.0</td>\n",
       "      <td>auber</td>\n",
       "      <td>17.5</td>\n",
       "      <td>2013-01-16</td>\n",
       "      <td>10:00:00</td>\n",
       "      <td>...</td>\n",
       "      <td>402.0</td>\n",
       "      <td>1</td>\n",
       "      <td>0.0</td>\n",
       "      <td>2013</td>\n",
       "      <td>1</td>\n",
       "      <td>16</td>\n",
       "      <td>10</td>\n",
       "      <td>0</td>\n",
       "      <td>0</td>\n",
       "      <td>2013-01-16 10:00:00</td>\n",
       "    </tr>\n",
       "  </tbody>\n",
       "</table>\n",
       "<p>5 rows × 29 columns</p>\n",
       "</div>"
      ],
      "text/plain": [
       "     co2  humi     no   no2   pm10  pm2.5 station  temp       date      time  \\\n",
       "0  403.0  51.2    NaN   NaN  295.0  118.0   auber  20.4 2013-01-01  10:00:00   \n",
       "1  767.0  46.4   99.0  54.0  362.0  110.0   auber  18.3 2013-01-15  10:00:00   \n",
       "2  495.0  45.0   68.0  45.0  117.0   36.0   auber  18.7 2013-01-12  10:00:00   \n",
       "3  708.0  45.3   90.0  40.0  234.0   73.0   auber  19.5 2013-01-09  10:00:00   \n",
       "4  749.0  41.8  213.0  62.0  314.0  112.0   auber  17.5 2013-01-16  10:00:00   \n",
       "\n",
       "          ...              9  a    b  year  month  day  hour  minute  second  \\\n",
       "0         ...          402.0  1  0.0  2013      1    1    10       0       0   \n",
       "1         ...          402.0  1  0.0  2013      1   15    10       0       0   \n",
       "2         ...          402.0  1  0.0  2013      1   12    10       0       0   \n",
       "3         ...          402.0  1  0.0  2013      1    9    10       0       0   \n",
       "4         ...          402.0  1  0.0  2013      1   16    10       0       0   \n",
       "\n",
       "             datetime  \n",
       "0 2013-01-01 10:00:00  \n",
       "1 2013-01-15 10:00:00  \n",
       "2 2013-01-12 10:00:00  \n",
       "3 2013-01-09 10:00:00  \n",
       "4 2013-01-16 10:00:00  \n",
       "\n",
       "[5 rows x 29 columns]"
      ]
     },
     "execution_count": 19,
     "metadata": {},
     "output_type": "execute_result"
    }
   ],
   "source": [
    "data.head()"
   ]
  },
  {
   "cell_type": "code",
   "execution_count": 20,
   "metadata": {},
   "outputs": [
    {
     "data": {
      "text/plain": [
       "<matplotlib.axes._subplots.AxesSubplot at 0x16d70e80358>"
      ]
     },
     "execution_count": 20,
     "metadata": {},
     "output_type": "execute_result"
    },
    {
     "data": {
      "image/png": "[encoded data removed]",
      "text/plain": [
       "<matplotlib.figure.Figure at 0x16d70eeaa90>"
      ]
     },
     "metadata": {},
     "output_type": "display_data"
    }
   ],
   "source": [
    "data[(data['year'] == 2013 )&(data['month'] == 1)&(data['station'] == 'auber')].plot(x='datetime', y='a')"
   ]
  },
  {
   "cell_type": "code",
   "execution_count": 21,
   "metadata": {},
   "outputs": [
    {
     "data": {
      "text/plain": [
       "<matplotlib.axes._subplots.AxesSubplot at 0x16d70e80438>"
      ]
     },
     "execution_count": 21,
     "metadata": {},
     "output_type": "execute_result"
    },
    {
     "data": {
      "image/png": "[encoded data removed]",
      "text/plain": [
       "<matplotlib.figure.Figure at 0x16d7494b320>"
      ]
     },
     "metadata": {},
     "output_type": "display_data"
    }
   ],
   "source": [
    "data[(data['year'] == 2013 )&(data['month'] == 1)&(data['station'] == 'auber')].plot(x='datetime', y='co2')"
   ]
  },
  {
   "cell_type": "code",
   "execution_count": 22,
   "metadata": {},
   "outputs": [
    {
     "ename": "KeyError",
     "evalue": "'stop_id'",
     "output_type": "error",
     "traceback": [
      "\u001b[1;31m---------------------------------------------------------------------------\u001b[0m",
      "\u001b[1;31mKeyError\u001b[0m                                  Traceback (most recent call last)",
      "\u001b[1;32mc:\\program files\\python36\\lib\\site-packages\\pandas\\core\\indexes\\base.py\u001b[0m in \u001b[0;36mget_loc\u001b[1;34m(self, key, method, tolerance)\u001b[0m\n\u001b[0;32m   2524\u001b[0m             \u001b[1;32mtry\u001b[0m\u001b[1;33m:\u001b[0m\u001b[1;33m\u001b[0m\u001b[0m\n\u001b[1;32m-> 2525\u001b[1;33m                 \u001b[1;32mreturn\u001b[0m \u001b[0mself\u001b[0m\u001b[1;33m.\u001b[0m\u001b[0m_engine\u001b[0m\u001b[1;33m.\u001b[0m\u001b[0mget_loc\u001b[0m\u001b[1;33m(\u001b[0m\u001b[0mkey\u001b[0m\u001b[1;33m)\u001b[0m\u001b[1;33m\u001b[0m\u001b[0m\n\u001b[0m\u001b[0;32m   2526\u001b[0m             \u001b[1;32mexcept\u001b[0m \u001b[0mKeyError\u001b[0m\u001b[1;33m:\u001b[0m\u001b[1;33m\u001b[0m\u001b[0m\n",
      "\u001b[1;32mpandas\\_libs\\index.pyx\u001b[0m in \u001b[0;36mpandas._libs.index.IndexEngine.get_loc\u001b[1;34m()\u001b[0m\n",
      "\u001b[1;32mpandas\\_libs\\index.pyx\u001b[0m in \u001b[0;36mpandas._libs.index.IndexEngine.get_loc\u001b[1;34m()\u001b[0m\n",
      "\u001b[1;32mpandas\\_libs\\hashtable_class_helper.pxi\u001b[0m in \u001b[0;36mpandas._libs.hashtable.PyObjectHashTable.get_item\u001b[1;34m()\u001b[0m\n",
      "\u001b[1;32mpandas\\_libs\\hashtable_class_helper.pxi\u001b[0m in \u001b[0;36mpandas._libs.hashtable.PyObjectHashTable.get_item\u001b[1;34m()\u001b[0m\n",
      "\u001b[1;31mKeyError\u001b[0m: 'stop_id'",
      "\nDuring handling of the above exception, another exception occurred:\n",
      "\u001b[1;31mKeyError\u001b[0m                                  Traceback (most recent call last)",
      "\u001b[1;32m<ipython-input-22-0b596a56a20a>\u001b[0m in \u001b[0;36m<module>\u001b[1;34m()\u001b[0m\n\u001b[1;32m----> 1\u001b[1;33m \u001b[0mdata\u001b[0m\u001b[1;33m[\u001b[0m\u001b[1;33m(\u001b[0m\u001b[0mdata\u001b[0m\u001b[1;33m[\u001b[0m\u001b[1;34m'year'\u001b[0m\u001b[1;33m]\u001b[0m \u001b[1;33m==\u001b[0m \u001b[1;36m2013\u001b[0m \u001b[1;33m)\u001b[0m\u001b[1;33m&\u001b[0m\u001b[1;33m(\u001b[0m\u001b[0mdata\u001b[0m\u001b[1;33m[\u001b[0m\u001b[1;34m'month'\u001b[0m\u001b[1;33m]\u001b[0m \u001b[1;33m==\u001b[0m \u001b[1;36m1\u001b[0m\u001b[1;33m)\u001b[0m\u001b[1;33m&\u001b[0m\u001b[1;33m(\u001b[0m\u001b[0mdata\u001b[0m\u001b[1;33m[\u001b[0m\u001b[1;34m'station'\u001b[0m\u001b[1;33m]\u001b[0m \u001b[1;33m==\u001b[0m \u001b[1;34m'auber'\u001b[0m\u001b[1;33m)\u001b[0m\u001b[1;33m&\u001b[0m\u001b[1;33m(\u001b[0m\u001b[0mdata\u001b[0m\u001b[1;33m[\u001b[0m\u001b[1;34m'stop_id'\u001b[0m\u001b[1;33m]\u001b[0m \u001b[1;33m==\u001b[0m \u001b[1;36m389\u001b[0m\u001b[1;33m)\u001b[0m\u001b[1;33m]\u001b[0m\u001b[1;33m.\u001b[0m\u001b[0mplot\u001b[0m\u001b[1;33m(\u001b[0m\u001b[0mx\u001b[0m\u001b[1;33m=\u001b[0m\u001b[1;34m'datetime'\u001b[0m\u001b[1;33m,\u001b[0m \u001b[0my\u001b[0m\u001b[1;33m=\u001b[0m\u001b[1;34m'a'\u001b[0m\u001b[1;33m)\u001b[0m\u001b[1;33m\u001b[0m\u001b[0m\n\u001b[0m",
      "\u001b[1;32mc:\\program files\\python36\\lib\\site-packages\\pandas\\core\\frame.py\u001b[0m in \u001b[0;36m__getitem__\u001b[1;34m(self, key)\u001b[0m\n\u001b[0;32m   2137\u001b[0m             \u001b[1;32mreturn\u001b[0m \u001b[0mself\u001b[0m\u001b[1;33m.\u001b[0m\u001b[0m_getitem_multilevel\u001b[0m\u001b[1;33m(\u001b[0m\u001b[0mkey\u001b[0m\u001b[1;33m)\u001b[0m\u001b[1;33m\u001b[0m\u001b[0m\n\u001b[0;32m   2138\u001b[0m         \u001b[1;32melse\u001b[0m\u001b[1;33m:\u001b[0m\u001b[1;33m\u001b[0m\u001b[0m\n\u001b[1;32m-> 2139\u001b[1;33m             \u001b[1;32mreturn\u001b[0m \u001b[0mself\u001b[0m\u001b[1;33m.\u001b[0m\u001b[0m_getitem_column\u001b[0m\u001b[1;33m(\u001b[0m\u001b[0mkey\u001b[0m\u001b[1;33m)\u001b[0m\u001b[1;33m\u001b[0m\u001b[0m\n\u001b[0m\u001b[0;32m   2140\u001b[0m \u001b[1;33m\u001b[0m\u001b[0m\n\u001b[0;32m   2141\u001b[0m     \u001b[1;32mdef\u001b[0m \u001b[0m_getitem_column\u001b[0m\u001b[1;33m(\u001b[0m\u001b[0mself\u001b[0m\u001b[1;33m,\u001b[0m \u001b[0mkey\u001b[0m\u001b[1;33m)\u001b[0m\u001b[1;33m:\u001b[0m\u001b[1;33m\u001b[0m\u001b[0m\n",
      "\u001b[1;32mc:\\program files\\python36\\lib\\site-packages\\pandas\\core\\frame.py\u001b[0m in \u001b[0;36m_getitem_column\u001b[1;34m(self, key)\u001b[0m\n\u001b[0;32m   2144\u001b[0m         \u001b[1;31m# get column\u001b[0m\u001b[1;33m\u001b[0m\u001b[1;33m\u001b[0m\u001b[0m\n\u001b[0;32m   2145\u001b[0m         \u001b[1;32mif\u001b[0m \u001b[0mself\u001b[0m\u001b[1;33m.\u001b[0m\u001b[0mcolumns\u001b[0m\u001b[1;33m.\u001b[0m\u001b[0mis_unique\u001b[0m\u001b[1;33m:\u001b[0m\u001b[1;33m\u001b[0m\u001b[0m\n\u001b[1;32m-> 2146\u001b[1;33m             \u001b[1;32mreturn\u001b[0m \u001b[0mself\u001b[0m\u001b[1;33m.\u001b[0m\u001b[0m_get_item_cache\u001b[0m\u001b[1;33m(\u001b[0m\u001b[0mkey\u001b[0m\u001b[1;33m)\u001b[0m\u001b[1;33m\u001b[0m\u001b[0m\n\u001b[0m\u001b[0;32m   2147\u001b[0m \u001b[1;33m\u001b[0m\u001b[0m\n\u001b[0;32m   2148\u001b[0m         \u001b[1;31m# duplicate columns & possible reduce dimensionality\u001b[0m\u001b[1;33m\u001b[0m\u001b[1;33m\u001b[0m\u001b[0m\n",
      "\u001b[1;32mc:\\program files\\python36\\lib\\site-packages\\pandas\\core\\generic.py\u001b[0m in \u001b[0;36m_get_item_cache\u001b[1;34m(self, item)\u001b[0m\n\u001b[0;32m   1840\u001b[0m         \u001b[0mres\u001b[0m \u001b[1;33m=\u001b[0m \u001b[0mcache\u001b[0m\u001b[1;33m.\u001b[0m\u001b[0mget\u001b[0m\u001b[1;33m(\u001b[0m\u001b[0mitem\u001b[0m\u001b[1;33m)\u001b[0m\u001b[1;33m\u001b[0m\u001b[0m\n\u001b[0;32m   1841\u001b[0m         \u001b[1;32mif\u001b[0m \u001b[0mres\u001b[0m \u001b[1;32mis\u001b[0m \u001b[1;32mNone\u001b[0m\u001b[1;33m:\u001b[0m\u001b[1;33m\u001b[0m\u001b[0m\n\u001b[1;32m-> 1842\u001b[1;33m             \u001b[0mvalues\u001b[0m \u001b[1;33m=\u001b[0m \u001b[0mself\u001b[0m\u001b[1;33m.\u001b[0m\u001b[0m_data\u001b[0m\u001b[1;33m.\u001b[0m\u001b[0mget\u001b[0m\u001b[1;33m(\u001b[0m\u001b[0mitem\u001b[0m\u001b[1;33m)\u001b[0m\u001b[1;33m\u001b[0m\u001b[0m\n\u001b[0m\u001b[0;32m   1843\u001b[0m             \u001b[0mres\u001b[0m \u001b[1;33m=\u001b[0m \u001b[0mself\u001b[0m\u001b[1;33m.\u001b[0m\u001b[0m_box_item_values\u001b[0m\u001b[1;33m(\u001b[0m\u001b[0mitem\u001b[0m\u001b[1;33m,\u001b[0m \u001b[0mvalues\u001b[0m\u001b[1;33m)\u001b[0m\u001b[1;33m\u001b[0m\u001b[0m\n\u001b[0;32m   1844\u001b[0m             \u001b[0mcache\u001b[0m\u001b[1;33m[\u001b[0m\u001b[0mitem\u001b[0m\u001b[1;33m]\u001b[0m \u001b[1;33m=\u001b[0m \u001b[0mres\u001b[0m\u001b[1;33m\u001b[0m\u001b[0m\n",
      "\u001b[1;32mc:\\program files\\python36\\lib\\site-packages\\pandas\\core\\internals.py\u001b[0m in \u001b[0;36mget\u001b[1;34m(self, item, fastpath)\u001b[0m\n\u001b[0;32m   3841\u001b[0m \u001b[1;33m\u001b[0m\u001b[0m\n\u001b[0;32m   3842\u001b[0m             \u001b[1;32mif\u001b[0m \u001b[1;32mnot\u001b[0m \u001b[0misna\u001b[0m\u001b[1;33m(\u001b[0m\u001b[0mitem\u001b[0m\u001b[1;33m)\u001b[0m\u001b[1;33m:\u001b[0m\u001b[1;33m\u001b[0m\u001b[0m\n\u001b[1;32m-> 3843\u001b[1;33m                 \u001b[0mloc\u001b[0m \u001b[1;33m=\u001b[0m \u001b[0mself\u001b[0m\u001b[1;33m.\u001b[0m\u001b[0mitems\u001b[0m\u001b[1;33m.\u001b[0m\u001b[0mget_loc\u001b[0m\u001b[1;33m(\u001b[0m\u001b[0mitem\u001b[0m\u001b[1;33m)\u001b[0m\u001b[1;33m\u001b[0m\u001b[0m\n\u001b[0m\u001b[0;32m   3844\u001b[0m             \u001b[1;32melse\u001b[0m\u001b[1;33m:\u001b[0m\u001b[1;33m\u001b[0m\u001b[0m\n\u001b[0;32m   3845\u001b[0m                 \u001b[0mindexer\u001b[0m \u001b[1;33m=\u001b[0m \u001b[0mnp\u001b[0m\u001b[1;33m.\u001b[0m\u001b[0marange\u001b[0m\u001b[1;33m(\u001b[0m\u001b[0mlen\u001b[0m\u001b[1;33m(\u001b[0m\u001b[0mself\u001b[0m\u001b[1;33m.\u001b[0m\u001b[0mitems\u001b[0m\u001b[1;33m)\u001b[0m\u001b[1;33m)\u001b[0m\u001b[1;33m[\u001b[0m\u001b[0misna\u001b[0m\u001b[1;33m(\u001b[0m\u001b[0mself\u001b[0m\u001b[1;33m.\u001b[0m\u001b[0mitems\u001b[0m\u001b[1;33m)\u001b[0m\u001b[1;33m]\u001b[0m\u001b[1;33m\u001b[0m\u001b[0m\n",
      "\u001b[1;32mc:\\program files\\python36\\lib\\site-packages\\pandas\\core\\indexes\\base.py\u001b[0m in \u001b[0;36mget_loc\u001b[1;34m(self, key, method, tolerance)\u001b[0m\n\u001b[0;32m   2525\u001b[0m                 \u001b[1;32mreturn\u001b[0m \u001b[0mself\u001b[0m\u001b[1;33m.\u001b[0m\u001b[0m_engine\u001b[0m\u001b[1;33m.\u001b[0m\u001b[0mget_loc\u001b[0m\u001b[1;33m(\u001b[0m\u001b[0mkey\u001b[0m\u001b[1;33m)\u001b[0m\u001b[1;33m\u001b[0m\u001b[0m\n\u001b[0;32m   2526\u001b[0m             \u001b[1;32mexcept\u001b[0m \u001b[0mKeyError\u001b[0m\u001b[1;33m:\u001b[0m\u001b[1;33m\u001b[0m\u001b[0m\n\u001b[1;32m-> 2527\u001b[1;33m                 \u001b[1;32mreturn\u001b[0m \u001b[0mself\u001b[0m\u001b[1;33m.\u001b[0m\u001b[0m_engine\u001b[0m\u001b[1;33m.\u001b[0m\u001b[0mget_loc\u001b[0m\u001b[1;33m(\u001b[0m\u001b[0mself\u001b[0m\u001b[1;33m.\u001b[0m\u001b[0m_maybe_cast_indexer\u001b[0m\u001b[1;33m(\u001b[0m\u001b[0mkey\u001b[0m\u001b[1;33m)\u001b[0m\u001b[1;33m)\u001b[0m\u001b[1;33m\u001b[0m\u001b[0m\n\u001b[0m\u001b[0;32m   2528\u001b[0m \u001b[1;33m\u001b[0m\u001b[0m\n\u001b[0;32m   2529\u001b[0m         \u001b[0mindexer\u001b[0m \u001b[1;33m=\u001b[0m \u001b[0mself\u001b[0m\u001b[1;33m.\u001b[0m\u001b[0mget_indexer\u001b[0m\u001b[1;33m(\u001b[0m\u001b[1;33m[\u001b[0m\u001b[0mkey\u001b[0m\u001b[1;33m]\u001b[0m\u001b[1;33m,\u001b[0m \u001b[0mmethod\u001b[0m\u001b[1;33m=\u001b[0m\u001b[0mmethod\u001b[0m\u001b[1;33m,\u001b[0m \u001b[0mtolerance\u001b[0m\u001b[1;33m=\u001b[0m\u001b[0mtolerance\u001b[0m\u001b[1;33m)\u001b[0m\u001b[1;33m\u001b[0m\u001b[0m\n",
      "\u001b[1;32mpandas\\_libs\\index.pyx\u001b[0m in \u001b[0;36mpandas._libs.index.IndexEngine.get_loc\u001b[1;34m()\u001b[0m\n",
      "\u001b[1;32mpandas\\_libs\\index.pyx\u001b[0m in \u001b[0;36mpandas._libs.index.IndexEngine.get_loc\u001b[1;34m()\u001b[0m\n",
      "\u001b[1;32mpandas\\_libs\\hashtable_class_helper.pxi\u001b[0m in \u001b[0;36mpandas._libs.hashtable.PyObjectHashTable.get_item\u001b[1;34m()\u001b[0m\n",
      "\u001b[1;32mpandas\\_libs\\hashtable_class_helper.pxi\u001b[0m in \u001b[0;36mpandas._libs.hashtable.PyObjectHashTable.get_item\u001b[1;34m()\u001b[0m\n",
      "\u001b[1;31mKeyError\u001b[0m: 'stop_id'"
     ]
    }
   ],
   "source": [
    "data[(data['year'] == 2013 )&(data['month'] == 1)&(data['station'] == 'auber')&(data['stop_id'] == 389)].plot(x='datetime', y='a')"
   ]
  },
  {
   "cell_type": "code",
   "execution_count": null,
   "metadata": {},
   "outputs": [],
   "source": [
    "data[(data['year'] == 2013 )&(data['month'] == 1)&(data['station'] == 'auber')&(data['stop_id'] == 389)].plot(x='datetime', y='co2')"
   ]
  },
  {
   "cell_type": "markdown",
   "metadata": {},
   "source": [
    "Création de a_day : nombre de valeurs manquantes sur une journée "
   ]
  },
  {
   "cell_type": "code",
   "execution_count": null,
   "metadata": {},
   "outputs": [],
   "source": [
    "#je prends un index du tableau\n",
    "i= 32\n",
    "data_i = data.loc[i] \n",
    "data_i_co2 = data_i[\"co2\"]\n",
    "data_i_day = data.loc[i-12:i+12]\n",
    "data_i_day_co2 = data_i_day[\"co2\"]\n",
    "data_i_day_a = data_i_day[\"a\"]\n",
    "data_i_day_a"
   ]
  },
  {
   "cell_type": "code",
   "execution_count": null,
   "metadata": {},
   "outputs": [],
   "source": [
    "#je définis aday comme étant le nombre de valeurs non manquantes dans la fourchette index-12 /index+12 soit une journée\n",
    "data_i[\"a_day\"] = data_i_day_a.count()\n",
    "data_i"
   ]
  },
  {
   "cell_type": "markdown",
   "metadata": {},
   "source": [
    "### Interpolation"
   ]
  },
  {
   "cell_type": "code",
   "execution_count": null,
   "metadata": {},
   "outputs": [],
   "source": [
    "import scipy \n",
    "data_inter_pchip = data.interpolate(method='pchip')    "
   ]
  },
  {
   "cell_type": "code",
   "execution_count": null,
   "metadata": {},
   "outputs": [],
   "source": [
    "data_inter_pchip.head()"
   ]
  },
  {
   "cell_type": "code",
   "execution_count": null,
   "metadata": {},
   "outputs": [],
   "source": [
    "data_co2= data_inter_pchip[data_inter_pchip[\"co2\"].isnull()]"
   ]
  },
  {
   "cell_type": "code",
   "execution_count": null,
   "metadata": {},
   "outputs": [],
   "source": [
    "data_co2.head()"
   ]
  },
  {
   "cell_type": "markdown",
   "metadata": {},
   "source": [
    "Visualisation des données interpolées "
   ]
  },
  {
   "cell_type": "code",
   "execution_count": null,
   "metadata": {
    "scrolled": true
   },
   "outputs": [],
   "source": [
    "fig, ax = plt.subplots(figsize=(20,10))\n",
    "data_inter_pchip.plot(x = \"datetime\",y = \"co2\", ax=ax)\n",
    "data.plot(x=\"datetime\",y = \"co2\", ax=ax)"
   ]
  },
  {
   "cell_type": "code",
   "execution_count": null,
   "metadata": {},
   "outputs": [],
   "source": [
    "data_inter_linear = data.interpolate(method='linear')"
   ]
  },
  {
   "cell_type": "code",
   "execution_count": null,
   "metadata": {},
   "outputs": [],
   "source": [
    "data_inter_quadratic =data.interpolate(method='quadratic')"
   ]
  },
  {
   "cell_type": "code",
   "execution_count": 23,
   "metadata": {},
   "outputs": [],
   "source": [
    "data_inter_cubic= data.interpolate(method='cubic')"
   ]
  },
  {
   "cell_type": "code",
   "execution_count": 24,
   "metadata": {},
   "outputs": [],
   "source": [
    "data_inter_values = data.interpolate(method='values')"
   ]
  },
  {
   "cell_type": "code",
   "execution_count": 25,
   "metadata": {},
   "outputs": [],
   "source": [
    "#data_inter_cbarycentric= data.interpolate(method='barycentric')"
   ]
  },
  {
   "cell_type": "code",
   "execution_count": 26,
   "metadata": {},
   "outputs": [],
   "source": [
    "data_inter_akima = data.interpolate(method='akima')"
   ]
  },
  {
   "cell_type": "code",
   "execution_count": 27,
   "metadata": {},
   "outputs": [],
   "source": [
    "data_inter_rien = data.interpolate()"
   ]
  },
  {
   "cell_type": "code",
   "execution_count": 28,
   "metadata": {},
   "outputs": [
    {
     "ename": "KeyError",
     "evalue": "'stop_id'",
     "output_type": "error",
     "traceback": [
      "\u001b[1;31m---------------------------------------------------------------------------\u001b[0m",
      "\u001b[1;31mKeyError\u001b[0m                                  Traceback (most recent call last)",
      "\u001b[1;32mc:\\program files\\python36\\lib\\site-packages\\pandas\\core\\indexes\\base.py\u001b[0m in \u001b[0;36mget_loc\u001b[1;34m(self, key, method, tolerance)\u001b[0m\n\u001b[0;32m   2524\u001b[0m             \u001b[1;32mtry\u001b[0m\u001b[1;33m:\u001b[0m\u001b[1;33m\u001b[0m\u001b[0m\n\u001b[1;32m-> 2525\u001b[1;33m                 \u001b[1;32mreturn\u001b[0m \u001b[0mself\u001b[0m\u001b[1;33m.\u001b[0m\u001b[0m_engine\u001b[0m\u001b[1;33m.\u001b[0m\u001b[0mget_loc\u001b[0m\u001b[1;33m(\u001b[0m\u001b[0mkey\u001b[0m\u001b[1;33m)\u001b[0m\u001b[1;33m\u001b[0m\u001b[0m\n\u001b[0m\u001b[0;32m   2526\u001b[0m             \u001b[1;32mexcept\u001b[0m \u001b[0mKeyError\u001b[0m\u001b[1;33m:\u001b[0m\u001b[1;33m\u001b[0m\u001b[0m\n",
      "\u001b[1;32mpandas\\_libs\\index.pyx\u001b[0m in \u001b[0;36mpandas._libs.index.IndexEngine.get_loc\u001b[1;34m()\u001b[0m\n",
      "\u001b[1;32mpandas\\_libs\\index.pyx\u001b[0m in \u001b[0;36mpandas._libs.index.IndexEngine.get_loc\u001b[1;34m()\u001b[0m\n",
      "\u001b[1;32mpandas\\_libs\\hashtable_class_helper.pxi\u001b[0m in \u001b[0;36mpandas._libs.hashtable.PyObjectHashTable.get_item\u001b[1;34m()\u001b[0m\n",
      "\u001b[1;32mpandas\\_libs\\hashtable_class_helper.pxi\u001b[0m in \u001b[0;36mpandas._libs.hashtable.PyObjectHashTable.get_item\u001b[1;34m()\u001b[0m\n",
      "\u001b[1;31mKeyError\u001b[0m: 'stop_id'",
      "\nDuring handling of the above exception, another exception occurred:\n",
      "\u001b[1;31mKeyError\u001b[0m                                  Traceback (most recent call last)",
      "\u001b[1;32m<ipython-input-28-d19446408956>\u001b[0m in \u001b[0;36m<module>\u001b[1;34m()\u001b[0m\n\u001b[0;32m      1\u001b[0m \u001b[0mfig\u001b[0m\u001b[1;33m,\u001b[0m \u001b[0max\u001b[0m \u001b[1;33m=\u001b[0m \u001b[0mplt\u001b[0m\u001b[1;33m.\u001b[0m\u001b[0msubplots\u001b[0m\u001b[1;33m(\u001b[0m\u001b[0mfigsize\u001b[0m\u001b[1;33m=\u001b[0m\u001b[1;33m(\u001b[0m\u001b[1;36m20\u001b[0m\u001b[1;33m,\u001b[0m\u001b[1;36m10\u001b[0m\u001b[1;33m)\u001b[0m\u001b[1;33m)\u001b[0m\u001b[1;33m\u001b[0m\u001b[0m\n\u001b[1;32m----> 2\u001b[1;33m \u001b[0mdata\u001b[0m\u001b[1;33m[\u001b[0m\u001b[1;33m(\u001b[0m\u001b[0mdata\u001b[0m\u001b[1;33m[\u001b[0m\u001b[1;34m'year'\u001b[0m\u001b[1;33m]\u001b[0m \u001b[1;33m==\u001b[0m \u001b[1;36m2013\u001b[0m \u001b[1;33m)\u001b[0m\u001b[1;33m&\u001b[0m\u001b[1;33m(\u001b[0m\u001b[0mdata\u001b[0m\u001b[1;33m[\u001b[0m\u001b[1;34m'month'\u001b[0m\u001b[1;33m]\u001b[0m \u001b[1;33m==\u001b[0m \u001b[1;36m1\u001b[0m\u001b[1;33m)\u001b[0m\u001b[1;33m&\u001b[0m\u001b[1;33m(\u001b[0m\u001b[0mdata\u001b[0m\u001b[1;33m[\u001b[0m\u001b[1;34m'station'\u001b[0m\u001b[1;33m]\u001b[0m \u001b[1;33m==\u001b[0m \u001b[1;34m'auber'\u001b[0m\u001b[1;33m)\u001b[0m\u001b[1;33m&\u001b[0m\u001b[1;33m(\u001b[0m\u001b[0mdata\u001b[0m\u001b[1;33m[\u001b[0m\u001b[1;34m'stop_id'\u001b[0m\u001b[1;33m]\u001b[0m \u001b[1;33m==\u001b[0m \u001b[1;36m389\u001b[0m\u001b[1;33m)\u001b[0m\u001b[1;33m]\u001b[0m\u001b[1;33m.\u001b[0m\u001b[0mplot\u001b[0m\u001b[1;33m(\u001b[0m\u001b[0mx\u001b[0m\u001b[1;33m=\u001b[0m\u001b[1;34m'datetime'\u001b[0m\u001b[1;33m,\u001b[0m \u001b[0my\u001b[0m\u001b[1;33m=\u001b[0m\u001b[1;34m'co2'\u001b[0m\u001b[1;33m,\u001b[0m\u001b[0max\u001b[0m\u001b[1;33m=\u001b[0m\u001b[0max\u001b[0m\u001b[1;33m)\u001b[0m\u001b[1;33m\u001b[0m\u001b[0m\n\u001b[0m\u001b[0;32m      3\u001b[0m \u001b[0mdata_inter_pchip\u001b[0m\u001b[1;33m[\u001b[0m\u001b[1;33m(\u001b[0m\u001b[0mdata_inter_pchip\u001b[0m\u001b[1;33m[\u001b[0m\u001b[1;34m'year'\u001b[0m\u001b[1;33m]\u001b[0m \u001b[1;33m==\u001b[0m \u001b[1;36m2013\u001b[0m \u001b[1;33m)\u001b[0m\u001b[1;33m&\u001b[0m\u001b[1;33m(\u001b[0m\u001b[0mdata_inter_pchip\u001b[0m\u001b[1;33m[\u001b[0m\u001b[1;34m'month'\u001b[0m\u001b[1;33m]\u001b[0m \u001b[1;33m==\u001b[0m \u001b[1;36m1\u001b[0m\u001b[1;33m)\u001b[0m\u001b[1;33m&\u001b[0m\u001b[1;33m(\u001b[0m\u001b[0mdata_inter_pchip\u001b[0m\u001b[1;33m[\u001b[0m\u001b[1;34m'stop_id'\u001b[0m\u001b[1;33m]\u001b[0m \u001b[1;33m==\u001b[0m \u001b[1;36m389\u001b[0m\u001b[1;33m)\u001b[0m\u001b[1;33m&\u001b[0m\u001b[1;33m(\u001b[0m\u001b[0mdata_inter_pchip\u001b[0m\u001b[1;33m[\u001b[0m\u001b[1;34m'station'\u001b[0m\u001b[1;33m]\u001b[0m \u001b[1;33m==\u001b[0m \u001b[1;34m'auber'\u001b[0m\u001b[1;33m)\u001b[0m\u001b[1;33m]\u001b[0m\u001b[1;33m.\u001b[0m\u001b[0mplot\u001b[0m\u001b[1;33m(\u001b[0m\u001b[0mx\u001b[0m\u001b[1;33m=\u001b[0m\u001b[1;34m'datetime'\u001b[0m\u001b[1;33m,\u001b[0m \u001b[0my\u001b[0m\u001b[1;33m=\u001b[0m\u001b[1;34m'co2'\u001b[0m\u001b[1;33m,\u001b[0m\u001b[0max\u001b[0m\u001b[1;33m=\u001b[0m\u001b[0max\u001b[0m\u001b[1;33m,\u001b[0m \u001b[0mlinestyle\u001b[0m\u001b[1;33m=\u001b[0m\u001b[1;34m':'\u001b[0m\u001b[1;33m)\u001b[0m\u001b[1;33m\u001b[0m\u001b[0m\n",
      "\u001b[1;32mc:\\program files\\python36\\lib\\site-packages\\pandas\\core\\frame.py\u001b[0m in \u001b[0;36m__getitem__\u001b[1;34m(self, key)\u001b[0m\n\u001b[0;32m   2137\u001b[0m             \u001b[1;32mreturn\u001b[0m \u001b[0mself\u001b[0m\u001b[1;33m.\u001b[0m\u001b[0m_getitem_multilevel\u001b[0m\u001b[1;33m(\u001b[0m\u001b[0mkey\u001b[0m\u001b[1;33m)\u001b[0m\u001b[1;33m\u001b[0m\u001b[0m\n\u001b[0;32m   2138\u001b[0m         \u001b[1;32melse\u001b[0m\u001b[1;33m:\u001b[0m\u001b[1;33m\u001b[0m\u001b[0m\n\u001b[1;32m-> 2139\u001b[1;33m             \u001b[1;32mreturn\u001b[0m \u001b[0mself\u001b[0m\u001b[1;33m.\u001b[0m\u001b[0m_getitem_column\u001b[0m\u001b[1;33m(\u001b[0m\u001b[0mkey\u001b[0m\u001b[1;33m)\u001b[0m\u001b[1;33m\u001b[0m\u001b[0m\n\u001b[0m\u001b[0;32m   2140\u001b[0m \u001b[1;33m\u001b[0m\u001b[0m\n\u001b[0;32m   2141\u001b[0m     \u001b[1;32mdef\u001b[0m \u001b[0m_getitem_column\u001b[0m\u001b[1;33m(\u001b[0m\u001b[0mself\u001b[0m\u001b[1;33m,\u001b[0m \u001b[0mkey\u001b[0m\u001b[1;33m)\u001b[0m\u001b[1;33m:\u001b[0m\u001b[1;33m\u001b[0m\u001b[0m\n",
      "\u001b[1;32mc:\\program files\\python36\\lib\\site-packages\\pandas\\core\\frame.py\u001b[0m in \u001b[0;36m_getitem_column\u001b[1;34m(self, key)\u001b[0m\n\u001b[0;32m   2144\u001b[0m         \u001b[1;31m# get column\u001b[0m\u001b[1;33m\u001b[0m\u001b[1;33m\u001b[0m\u001b[0m\n\u001b[0;32m   2145\u001b[0m         \u001b[1;32mif\u001b[0m \u001b[0mself\u001b[0m\u001b[1;33m.\u001b[0m\u001b[0mcolumns\u001b[0m\u001b[1;33m.\u001b[0m\u001b[0mis_unique\u001b[0m\u001b[1;33m:\u001b[0m\u001b[1;33m\u001b[0m\u001b[0m\n\u001b[1;32m-> 2146\u001b[1;33m             \u001b[1;32mreturn\u001b[0m \u001b[0mself\u001b[0m\u001b[1;33m.\u001b[0m\u001b[0m_get_item_cache\u001b[0m\u001b[1;33m(\u001b[0m\u001b[0mkey\u001b[0m\u001b[1;33m)\u001b[0m\u001b[1;33m\u001b[0m\u001b[0m\n\u001b[0m\u001b[0;32m   2147\u001b[0m \u001b[1;33m\u001b[0m\u001b[0m\n\u001b[0;32m   2148\u001b[0m         \u001b[1;31m# duplicate columns & possible reduce dimensionality\u001b[0m\u001b[1;33m\u001b[0m\u001b[1;33m\u001b[0m\u001b[0m\n",
      "\u001b[1;32mc:\\program files\\python36\\lib\\site-packages\\pandas\\core\\generic.py\u001b[0m in \u001b[0;36m_get_item_cache\u001b[1;34m(self, item)\u001b[0m\n\u001b[0;32m   1840\u001b[0m         \u001b[0mres\u001b[0m \u001b[1;33m=\u001b[0m \u001b[0mcache\u001b[0m\u001b[1;33m.\u001b[0m\u001b[0mget\u001b[0m\u001b[1;33m(\u001b[0m\u001b[0mitem\u001b[0m\u001b[1;33m)\u001b[0m\u001b[1;33m\u001b[0m\u001b[0m\n\u001b[0;32m   1841\u001b[0m         \u001b[1;32mif\u001b[0m \u001b[0mres\u001b[0m \u001b[1;32mis\u001b[0m \u001b[1;32mNone\u001b[0m\u001b[1;33m:\u001b[0m\u001b[1;33m\u001b[0m\u001b[0m\n\u001b[1;32m-> 1842\u001b[1;33m             \u001b[0mvalues\u001b[0m \u001b[1;33m=\u001b[0m \u001b[0mself\u001b[0m\u001b[1;33m.\u001b[0m\u001b[0m_data\u001b[0m\u001b[1;33m.\u001b[0m\u001b[0mget\u001b[0m\u001b[1;33m(\u001b[0m\u001b[0mitem\u001b[0m\u001b[1;33m)\u001b[0m\u001b[1;33m\u001b[0m\u001b[0m\n\u001b[0m\u001b[0;32m   1843\u001b[0m             \u001b[0mres\u001b[0m \u001b[1;33m=\u001b[0m \u001b[0mself\u001b[0m\u001b[1;33m.\u001b[0m\u001b[0m_box_item_values\u001b[0m\u001b[1;33m(\u001b[0m\u001b[0mitem\u001b[0m\u001b[1;33m,\u001b[0m \u001b[0mvalues\u001b[0m\u001b[1;33m)\u001b[0m\u001b[1;33m\u001b[0m\u001b[0m\n\u001b[0;32m   1844\u001b[0m             \u001b[0mcache\u001b[0m\u001b[1;33m[\u001b[0m\u001b[0mitem\u001b[0m\u001b[1;33m]\u001b[0m \u001b[1;33m=\u001b[0m \u001b[0mres\u001b[0m\u001b[1;33m\u001b[0m\u001b[0m\n",
      "\u001b[1;32mc:\\program files\\python36\\lib\\site-packages\\pandas\\core\\internals.py\u001b[0m in \u001b[0;36mget\u001b[1;34m(self, item, fastpath)\u001b[0m\n\u001b[0;32m   3841\u001b[0m \u001b[1;33m\u001b[0m\u001b[0m\n\u001b[0;32m   3842\u001b[0m             \u001b[1;32mif\u001b[0m \u001b[1;32mnot\u001b[0m \u001b[0misna\u001b[0m\u001b[1;33m(\u001b[0m\u001b[0mitem\u001b[0m\u001b[1;33m)\u001b[0m\u001b[1;33m:\u001b[0m\u001b[1;33m\u001b[0m\u001b[0m\n\u001b[1;32m-> 3843\u001b[1;33m                 \u001b[0mloc\u001b[0m \u001b[1;33m=\u001b[0m \u001b[0mself\u001b[0m\u001b[1;33m.\u001b[0m\u001b[0mitems\u001b[0m\u001b[1;33m.\u001b[0m\u001b[0mget_loc\u001b[0m\u001b[1;33m(\u001b[0m\u001b[0mitem\u001b[0m\u001b[1;33m)\u001b[0m\u001b[1;33m\u001b[0m\u001b[0m\n\u001b[0m\u001b[0;32m   3844\u001b[0m             \u001b[1;32melse\u001b[0m\u001b[1;33m:\u001b[0m\u001b[1;33m\u001b[0m\u001b[0m\n\u001b[0;32m   3845\u001b[0m                 \u001b[0mindexer\u001b[0m \u001b[1;33m=\u001b[0m \u001b[0mnp\u001b[0m\u001b[1;33m.\u001b[0m\u001b[0marange\u001b[0m\u001b[1;33m(\u001b[0m\u001b[0mlen\u001b[0m\u001b[1;33m(\u001b[0m\u001b[0mself\u001b[0m\u001b[1;33m.\u001b[0m\u001b[0mitems\u001b[0m\u001b[1;33m)\u001b[0m\u001b[1;33m)\u001b[0m\u001b[1;33m[\u001b[0m\u001b[0misna\u001b[0m\u001b[1;33m(\u001b[0m\u001b[0mself\u001b[0m\u001b[1;33m.\u001b[0m\u001b[0mitems\u001b[0m\u001b[1;33m)\u001b[0m\u001b[1;33m]\u001b[0m\u001b[1;33m\u001b[0m\u001b[0m\n",
      "\u001b[1;32mc:\\program files\\python36\\lib\\site-packages\\pandas\\core\\indexes\\base.py\u001b[0m in \u001b[0;36mget_loc\u001b[1;34m(self, key, method, tolerance)\u001b[0m\n\u001b[0;32m   2525\u001b[0m                 \u001b[1;32mreturn\u001b[0m \u001b[0mself\u001b[0m\u001b[1;33m.\u001b[0m\u001b[0m_engine\u001b[0m\u001b[1;33m.\u001b[0m\u001b[0mget_loc\u001b[0m\u001b[1;33m(\u001b[0m\u001b[0mkey\u001b[0m\u001b[1;33m)\u001b[0m\u001b[1;33m\u001b[0m\u001b[0m\n\u001b[0;32m   2526\u001b[0m             \u001b[1;32mexcept\u001b[0m \u001b[0mKeyError\u001b[0m\u001b[1;33m:\u001b[0m\u001b[1;33m\u001b[0m\u001b[0m\n\u001b[1;32m-> 2527\u001b[1;33m                 \u001b[1;32mreturn\u001b[0m \u001b[0mself\u001b[0m\u001b[1;33m.\u001b[0m\u001b[0m_engine\u001b[0m\u001b[1;33m.\u001b[0m\u001b[0mget_loc\u001b[0m\u001b[1;33m(\u001b[0m\u001b[0mself\u001b[0m\u001b[1;33m.\u001b[0m\u001b[0m_maybe_cast_indexer\u001b[0m\u001b[1;33m(\u001b[0m\u001b[0mkey\u001b[0m\u001b[1;33m)\u001b[0m\u001b[1;33m)\u001b[0m\u001b[1;33m\u001b[0m\u001b[0m\n\u001b[0m\u001b[0;32m   2528\u001b[0m \u001b[1;33m\u001b[0m\u001b[0m\n\u001b[0;32m   2529\u001b[0m         \u001b[0mindexer\u001b[0m \u001b[1;33m=\u001b[0m \u001b[0mself\u001b[0m\u001b[1;33m.\u001b[0m\u001b[0mget_indexer\u001b[0m\u001b[1;33m(\u001b[0m\u001b[1;33m[\u001b[0m\u001b[0mkey\u001b[0m\u001b[1;33m]\u001b[0m\u001b[1;33m,\u001b[0m \u001b[0mmethod\u001b[0m\u001b[1;33m=\u001b[0m\u001b[0mmethod\u001b[0m\u001b[1;33m,\u001b[0m \u001b[0mtolerance\u001b[0m\u001b[1;33m=\u001b[0m\u001b[0mtolerance\u001b[0m\u001b[1;33m)\u001b[0m\u001b[1;33m\u001b[0m\u001b[0m\n",
      "\u001b[1;32mpandas\\_libs\\index.pyx\u001b[0m in \u001b[0;36mpandas._libs.index.IndexEngine.get_loc\u001b[1;34m()\u001b[0m\n",
      "\u001b[1;32mpandas\\_libs\\index.pyx\u001b[0m in \u001b[0;36mpandas._libs.index.IndexEngine.get_loc\u001b[1;34m()\u001b[0m\n",
      "\u001b[1;32mpandas\\_libs\\hashtable_class_helper.pxi\u001b[0m in \u001b[0;36mpandas._libs.hashtable.PyObjectHashTable.get_item\u001b[1;34m()\u001b[0m\n",
      "\u001b[1;32mpandas\\_libs\\hashtable_class_helper.pxi\u001b[0m in \u001b[0;36mpandas._libs.hashtable.PyObjectHashTable.get_item\u001b[1;34m()\u001b[0m\n",
      "\u001b[1;31mKeyError\u001b[0m: 'stop_id'"
     ]
    },
    {
     "data": {
      "image/png": "[encoded data removed]",
      "text/plain": [
       "<matplotlib.figure.Figure at 0x16d748ae6a0>"
      ]
     },
     "metadata": {},
     "output_type": "display_data"
    }
   ],
   "source": [
    "fig, ax = plt.subplots(figsize=(20,10))\n",
    "data[(data['year'] == 2013 )&(data['month'] == 1)&(data['station'] == 'auber')&(data['stop_id'] == 389)].plot(x='datetime', y='co2',ax=ax)\n",
    "data_inter_pchip[(data_inter_pchip['year'] == 2013 )&(data_inter_pchip['month'] == 1)&(data_inter_pchip['stop_id'] == 389)&(data_inter_pchip['station'] == 'auber')].plot(x='datetime', y='co2',ax=ax, linestyle=':')"
   ]
  },
  {
   "cell_type": "code",
   "execution_count": null,
   "metadata": {},
   "outputs": [],
   "source": [
    "fig, ax = plt.subplots(figsize=(20,10))\n",
    "data[(data['year'] == 2013 )&(data['month'] == 1)&(data['station'] == 'auber')&(data['stop_id'] == 389)].plot(x='datetime', y='co2',ax=ax)\n",
    "data_inter_linear[(data_inter_linear['year'] == 2013 )&(data_inter_linear['month'] == 1)&(data_inter_linear['stop_id'] == 389)&(data_inter_linear['station'] == 'auber')].plot(x='datetime', y='co2',ax=ax, linestyle=':')"
   ]
  },
  {
   "cell_type": "code",
   "execution_count": null,
   "metadata": {},
   "outputs": [],
   "source": [
    "fig, ax = plt.subplots(figsize=(20,10))\n",
    "data[(data['year'] == 2013 )&(data['month'] == 1)&(data['station'] == 'auber')&(data['stop_id'] == 389)].plot(x='datetime', y='co2',ax=ax)\n",
    "data_inter_quadratic[(data_inter_quadratic['year'] == 2013 )&(data_inter_quadratic['month'] == 1)&(data_inter_quadratic['stop_id'] == 389)&(data_inter_quadratic['station'] == 'auber')].plot(x='datetime', y='co2',ax=ax, linestyle=':')"
   ]
  },
  {
   "cell_type": "markdown",
   "metadata": {},
   "source": [
    "si nombre de données manquantes correspond à un certain cas alors appliquer traitement\n",
    "s'il manque une heure moyenne de tous les lundis ou moyenne par rapport à avant \n"
   ]
  },
  {
   "cell_type": "code",
   "execution_count": null,
   "metadata": {},
   "outputs": [],
   "source": [
    "fig, ax = plt.subplots(figsize=(20,10))\n",
    "data[(data['year'] == 2013 )&(data['month'] == 1)&(data['station'] == 'auber')&(data['stop_id'] == 389)].plot(x='datetime', y='co2',ax=ax)\n",
    "data_inter_cubic[(data_inter_cubic['year'] == 2013 )&(data_inter_cubic['month'] == 1)&(data_inter_cubic['stop_id'] == 389)&(data_inter_cubic['station'] == 'auber')].plot(x='datetime', y='co2',ax=ax, linestyle=':')"
   ]
  },
  {
   "cell_type": "code",
   "execution_count": null,
   "metadata": {},
   "outputs": [],
   "source": [
    "fig, ax = plt.subplots(figsize=(20,10))\n",
    "data[(data['year'] == 2013 )&(data['month'] == 1)&(data['station'] == 'auber')&(data['stop_id'] == 389)].plot(x='datetime', y='co2',ax=ax)\n",
    "data_inter_values(data_inter_values['year'] == 2013 )&(data_inter_values['month'] == 1)&(data_inter_values['stop_id'] == 389)&(data_inter_values['station'] == 'auber')].plot(x='datetime', y='co2',ax=ax, linestyle=':')"
   ]
  },
  {
   "cell_type": "code",
   "execution_count": null,
   "metadata": {},
   "outputs": [],
   "source": [
    "fig, ax = plt.subplots(figsize=(20,10))\n",
    "data[(data['year'] == 2013 )&(data['month'] == 1)&(data['station'] == 'auber')&(data['stop_id'] == 389)].plot(x='datetime', y='co2',ax=ax)\n",
    "data_inter_akima[(data_inter_akima['year'] == 2013 )&(data_inter_akima['month'] == 1)&(data_inter_akima['stop_id'] == 389)&(data_inter_akima['station'] == 'auber')].plot(x='datetime', y='co2',ax=ax, linestyle=':')"
   ]
  },
  {
   "cell_type": "code",
   "execution_count": null,
   "metadata": {},
   "outputs": [],
   "source": [
    "fig, ax = plt.subplots(figsize=(20,10))\n",
    "data[(data['year'] == 2013 )&(data['month'] == 1)&(data['station'] == 'auber')&(data['stop_id'] == 389)].plot(x='datetime', y='co2',ax=ax)\n",
    "data_inter_rien[(data_inter_rien['year'] == 2013 )&(data_inter_rien['month'] == 1)&(data_inter_rien['stop_id'] == 389)&(data_inter_rien['station'] == 'auber')].plot(x='datetime', y='co2',ax=ax, linestyle=':')"
   ]
  },
  {
   "cell_type": "code",
   "execution_count": null,
   "metadata": {},
   "outputs": [],
   "source": [
    "fig, ax = plt.subplots(figsize=(20,10))\n",
    "data[(data['year'] == 2013 )&(data['month'] == 1)&(data['station'] == 'auber')&(data['stop_id'] == 389)].plot(x='datetime', y='co2',ax=ax)\n",
    "data_inter_rien[(data_inter_rien['year'] == 2013 )&(data_inter_rien['month'] == 1)&(data_inter_rien['stop_id'] == 389)&(data_inter_rien['station'] == 'auber')].plot(x='datetime', y='co2',ax=ax, linestyle=':')\n",
    "data_inter_cubic[(data_inter_cubic['year'] == 2013 )&(data_inter_cubic['month'] == 1)&(data_inter_cubic['stop_id'] == 389)&(data_inter_cubic['station'] == 'auber')].plot(x='datetime', y='co2',ax=ax, linestyle=':')\n",
    "data_inter_akima[(data_inter_akima['year'] == 2013 )&(data_inter_akima['month'] == 1)&(data_inter_akima['stop_id'] == 389)&(data_inter_akima['station'] == 'auber')].plot(x='datetime', y='co2',ax=ax, linestyle=':')\n",
    "data_inter_quadratic[(data_inter_quadratic['year'] == 2013 )&(data_inter_quadratic['month'] == 1)&(data_inter_quadratic['stop_id'] == 389)&(data_inter_quadratic['station'] == 'auber')].plot(x='datetime', y='co2',ax=ax, linestyle=':')\n",
    "data_inter_linear[(data_inter_linear['year'] == 2013 )&(data_inter_linear['month'] == 1)&(data_inter_linear['stop_id'] == 389)&(data_inter_linear['station'] == 'auber')].plot(x='datetime', y='co2',ax=ax, linestyle=':')\n",
    "data_inter_pchip[(data_inter_pchip['year'] == 2013 )&(data_inter_pchip['month'] == 1)&(data_inter_pchip['stop_id'] == 389)&(data_inter_pchip['station'] == 'auber')].plot(x='datetime', y='co2',ax=ax, linestyle=':')"
   ]
  },
  {
   "cell_type": "code",
   "execution_count": null,
   "metadata": {},
   "outputs": [],
   "source": [
    "fig, ax = plt.subplots(figsize=(20,10))\n",
    "data[(data['year'] == 2013 )&(data['month'] < 3)&(data['station'] == 'auber')&(data['stop_id'] == 389)].plot(x='datetime', y='co2',ax=ax)\n",
    "data_inter_rien[(data_inter_rien['year'] == 2013 )&(data_inter_rien['month'] < 3)&(data_inter_rien['stop_id'] == 389)&(data_inter_rien['station'] == 'auber')].plot(x='datetime', y='co2',ax=ax, linestyle=':')\n",
    "data_inter_cubic[(data_inter_cubic['year'] == 2013 )&(data_inter_cubic['month'] < 3)&(data_inter_cubic['stop_id'] == 389)&(data_inter_cubic['station'] == 'auber')].plot(x='datetime', y='co2',ax=ax, linestyle=':')\n",
    "data_inter_akima[(data_inter_akima['year'] == 2013 )&(data_inter_akima['month'] < 3)&(data_inter_akima['stop_id'] == 389)&(data_inter_akima['station'] == 'auber')].plot(x='datetime', y='co2',ax=ax, linestyle=':')\n",
    "data_inter_quadratic[(data_inter_quadratic['year'] == 2013 )&(data_inter_quadratic['month'] < 3)&(data_inter_quadratic['stop_id'] == 389)&(data_inter_quadratic['station'] == 'auber')].plot(x='datetime', y='co2',ax=ax, linestyle=':')\n",
    "data_inter_linear[(data_inter_linear['year'] == 2013 )&(data_inter_linear['month'] < 3)&(data_inter_linear['stop_id'] == 389)&(data_inter_linear['station'] == 'auber')].plot(x='datetime', y='co2',ax=ax, linestyle=':')\n",
    "data_inter_pchip[(data_inter_pchip['year'] == 2013 )&(data_inter_pchip['month'] < 3)&(data_inter_pchip['stop_id'] == 389)&(data_inter_pchip['station'] == 'auber')].plot(x='datetime', y='co2',ax=ax, linestyle=':')"
   ]
  },
  {
   "cell_type": "code",
   "execution_count": null,
   "metadata": {},
   "outputs": [],
   "source": [
    "fig, ax = plt.subplots(figsize=(20,10))\n",
    "data[(data['year'] == 2013 )&(data['month'] ==2 )&(data['station'] == 'auber')&(data['stop_id'] == 389)].plot(x='datetime', y='co2',ax=ax)\n",
    "data_inter_rien[(data_inter_rien['year'] == 2013 )&(data_inter_rien['month'] ==2)&(data_inter_rien['stop_id'] == 389)&(data_inter_rien['station'] == 'auber')].plot(x='datetime', y='co2',ax=ax, linestyle=':')\n",
    "data_inter_cubic[(data_inter_cubic['year'] == 2013 )&(data_inter_cubic['month'] ==2)&(data_inter_cubic['stop_id'] == 389)&(data_inter_cubic['station'] == 'auber')].plot(x='datetime', y='co2',ax=ax, linestyle=':')\n",
    "data_inter_akima[(data_inter_akima['year'] == 2013 )&(data_inter_akima['month'] ==2)&(data_inter_akima['stop_id'] == 389)&(data_inter_akima['station'] == 'auber')].plot(x='datetime', y='co2',ax=ax, linestyle=':')\n",
    "data_inter_quadratic[(data_inter_quadratic['year'] == 2013 )&(data_inter_quadratic['month'] ==2)&(data_inter_quadratic['stop_id'] == 389)&(data_inter_quadratic['station'] == 'auber')].plot(x='datetime', y='co2',ax=ax, linestyle=':')\n",
    "data_inter_linear[(data_inter_linear['year'] == 2013 )&(data_inter_linear['month']==2)&(data_inter_linear['stop_id'] == 389)&(data_inter_linear['station'] == 'auber')].plot(x='datetime', y='co2',ax=ax, linestyle=':')\n",
    "data_inter_pchip[(data_inter_pchip['year'] == 2013 )&(data_inter_pchip['month'] ==2)&(data_inter_pchip['stop_id'] == 389)&(data_inter_pchip['station'] == 'auber')].plot(x='datetime', y='co2',ax=ax, linestyle=':')"
   ]
  },
  {
   "cell_type": "code",
   "execution_count": null,
   "metadata": {},
   "outputs": [],
   "source": [
    "fig, ax = plt.subplots(figsize=(20,10))\n",
    "data[(data['year'] == 2013 )&(data['month'] ==3 )&(data['station'] == 'auber')&(data['stop_id'] == 389)].plot(x='datetime', y='co2',ax=ax)\n",
    "data_inter_rien[(data_inter_rien['year'] == 2013 )&(data_inter_rien['month'] ==3)&(data_inter_rien['stop_id'] == 389)&(data_inter_rien['station'] == 'auber')].plot(x='datetime', y='co2',ax=ax, linestyle=':')\n",
    "data_inter_cubic[(data_inter_cubic['year'] == 2013 )&(data_inter_cubic['month'] ==3)&(data_inter_cubic['stop_id'] == 389)&(data_inter_cubic['station'] == 'auber')].plot(x='datetime', y='co2',ax=ax, linestyle=':')\n",
    "data_inter_akima[(data_inter_akima['year'] == 2013 )&(data_inter_akima['month'] ==3)&(data_inter_akima['stop_id'] == 389)&(data_inter_akima['station'] == 'auber')].plot(x='datetime', y='co2',ax=ax, linestyle=':')\n",
    "data_inter_quadratic[(data_inter_quadratic['year'] == 2013 )&(data_inter_quadratic['month'] ==3)&(data_inter_quadratic['stop_id'] == 389)&(data_inter_quadratic['station'] == 'auber')].plot(x='datetime', y='co2',ax=ax, linestyle=':')\n",
    "data_inter_linear[(data_inter_linear['year'] == 2013 )&(data_inter_linear['month']==3)&(data_inter_linear['stop_id'] == 389)&(data_inter_linear['station'] == 'auber')].plot(x='datetime', y='co2',ax=ax, linestyle=':')\n",
    "data_inter_pchip[(data_inter_pchip['year'] == 2013 )&(data_inter_pchip['month'] ==3)&(data_inter_pchip['stop_id'] == 389)&(data_inter_pchip['station'] == 'auber')].plot(x='datetime', y='co2',ax=ax, linestyle=':')"
   ]
  },
  {
   "cell_type": "code",
   "execution_count": null,
   "metadata": {},
   "outputs": [],
   "source": [
    "fig, ax = plt.subplots(figsize=(20,10))\n",
    "data[(data['year'] == 2013 )&(data['station'] == 'auber')&(data['stop_id'] == 389)].plot(x='day', y='co2',ax=ax)\n",
    "data[(data['year'] == 2014 )&(data['station'] == 'auber')&(data['stop_id'] == 389)].plot(x='day', y='co2',ax=ax)\n",
    "data[(data['year'] == 2015 )&(data['station'] == 'auber')&(data['stop_id'] == 389)].plot(x='day', y='co2',ax=ax)\n",
    "data[(data['year'] == 2016 )&(data['station'] == 'auber')&(data['stop_id'] == 389)].plot(x='day', y='co2',ax=ax)"
   ]
  },
  {
   "cell_type": "code",
   "execution_count": null,
   "metadata": {},
   "outputs": [],
   "source": [
    "fig, ax = plt.subplots(figsize=(20,10))\n",
    "data[(data['year'] == 2013 )&(data['month'] == 1)&(data['station'] == 'auber')].plot(x='datetime', y='co2',ax=ax)\n",
    "data_inter_rien[(data_inter_rien['year'] == 2013 )&(data_inter_rien['month'] == 1)&(data_inter_rien['station'] == 'auber')].plot(x='datetime', y='co2',ax=ax, linestyle=':')\n",
    "data_inter_cubic[(data_inter_cubic['year'] == 2013 )&(data_inter_cubic['month'] == 1)&(data_inter_cubic['station'] == 'auber')].plot(x='datetime', y='co2',ax=ax, linestyle=':')\n",
    "data_inter_akima[(data_inter_akima['year'] == 2013 )&(data_inter_akima['month'] == 1)&(data_inter_akima['station'] == 'auber')].plot(x='datetime', y='co2',ax=ax, linestyle=':')\n",
    "data_inter_quadratic[(data_inter_quadratic['year'] == 2013 )&(data_inter_quadratic['month'] == 1)&(data_inter_quadratic['station'] == 'auber')].plot(x='datetime', y='co2',ax=ax, linestyle=':')\n",
    "data_inter_linear[(data_inter_linear['year'] == 2013 )&(data_inter_linear['month'] == 1)&(data_inter_linear['station'] == 'auber')].plot(x='datetime', y='co2',ax=ax, linestyle=':')\n",
    "data_inter_pchip[(data_inter_pchip['year'] == 2013 )&(data_inter_pchip['month'] == 1)&(data_inter_pchip['station'] == 'auber')].plot(x='datetime', y='co2',ax=ax, linestyle=':')"
   ]
  },
  {
   "cell_type": "code",
   "execution_count": null,
   "metadata": {},
   "outputs": [],
   "source": [
    "missing = data[(data['year'] == 2013 )&(data['month'] == 1)&(data['day'] == 3)&(data['hour'] == 2)&(data['station'] == 'auber')]\n",
    "print(missing)"
   ]
  },
  {
   "cell_type": "code",
   "execution_count": null,
   "metadata": {},
   "outputs": [],
   "source": [
    "type(missing_data_2016_auber_modified)\n",
    "missing_data_2016_auber_modified.empty\n",
    "missing_data_2016_auber_modified.dtypes\n",
    "missing_data_2016_auber_modified[['co2','humi', 'no', 'no2', 'pm10','pm2.5','temp','temp_min','temp_max']] = missing_data_2016_auber_modified[['co2','humi', 'no', 'no2', 'pm10','pm2.5','temp','temp_min','temp_max']].apply(pd.to_numeric)\n",
    "missing_data_2016_auber_modified.dtypes"
   ]
  },
  {
   "cell_type": "markdown",
   "metadata": {},
   "source": [
    "PROBLEME D'AFFICHAGE DU GRAPHIQUE POUR CERTAINES COLONNES EN ORDONNEE DONT LA QUALITE DE L'AIR : POURQUOI ???"
   ]
  },
  {
   "cell_type": "code",
   "execution_count": null,
   "metadata": {},
   "outputs": [],
   "source": [
    "missing_data_2016_auber_modified_co2 = missing_data_2016_auber_modified[missing_data_2016_auber_modified[\"co2\"] == 1]"
   ]
  },
  {
   "cell_type": "code",
   "execution_count": null,
   "metadata": {},
   "outputs": [],
   "source": [
    "fig, ax = plt.subplots(figsize=(20,10))\n",
    "missing_data_2016_auber_modified_co2.plot(x = \"datetime\",y = \"co2\", ax=ax)"
   ]
  },
  {
   "cell_type": "code",
   "execution_count": null,
   "metadata": {},
   "outputs": [],
   "source": [
    "missing_data_co2 = data[data[\"co2\"].isnull()]\n",
    "missing_data_humi = data[data[\"humi\"].isnull()]\n",
    "missing_data_no = data[data[\"no\"].isnull()]\n",
    "missing_data_no2 = data[data[\"no2\"].isnull()]\n",
    "missing_data_pm10 = data[data[\"pm10\"].isnull()]\n",
    "missing_data_pm2_5 = data[data[\"pm2.5\"].isnull()]\n",
    "missing_data_no2 = data[data[\"no2\"].isnull()]\n",
    "missing_data_temp = data[data[\"temp\"].isnull()]\n",
    "\n",
    "missing_data_co2.head()"
   ]
  },
  {
   "cell_type": "code",
   "execution_count": null,
   "metadata": {},
   "outputs": [],
   "source": [
    "#fig, ax = plt.subplots(figsize=(20,10))\n",
    "#sns.distplot(missing_data_co2[missing_data_co2['station'] == 'auber']['month'],missing_data_no[missing_data_no['station'] == 'auber']['month'],ax = ax, kde = False)\n",
    "#missing_data_co2.plot(x = 'date',y = 'co2', ax = ax)\n",
    "#missing_data_co2.plot(x='date', y= 'station', ax = ax)\n",
    "#missing_data_no.plot(x='date', y= 'station', ax = ax)\n",
    "#plt.show()\n",
    "#Z= append.([np.ones_like(missing_data_co2)], Z.missing_data_co2,0).missing_data_co2\n",
    "\n",
    "L = len(missing_data_co2)\n",
    "print(L)\n",
    "L = int(L)\n",
    "M = np.ones(L)\n",
    "#missing_data_co2.append(M)\n",
    "type(missing_data_co2)\n"
   ]
  },
  {
   "cell_type": "code",
   "execution_count": 25,
   "metadata": {},
   "outputs": [
    {
     "data": {
      "text/plain": [
       "<matplotlib.axes._subplots.AxesSubplot at 0x23c6500b160>"
      ]
     },
     "execution_count": 25,
     "metadata": {},
     "output_type": "execute_result"
    },
    {
     "data": {
      "image/png": "[encoded data removed]",
      "text/plain": [
       "<matplotlib.figure.Figure at 0x23c634fb550>"
      ]
     },
     "metadata": {},
     "output_type": "display_data"
    }
   ],
   "source": [
    "data.plot(x = 'co2',y = 'humi')\n"
   ]
  },
  {
   "cell_type": "code",
   "execution_count": 26,
   "metadata": {},
   "outputs": [
    {
     "data": {
      "text/plain": [
       "<matplotlib.axes._subplots.AxesSubplot at 0x23c6366c080>"
      ]
     },
     "execution_count": 26,
     "metadata": {},
     "output_type": "execute_result"
    },
    {
     "data": {
      "image/png": "[encoded data removed]",
      "text/plain": [
       "<matplotlib.figure.Figure at 0x23c65399d30>"
      ]
     },
     "metadata": {},
     "output_type": "display_data"
    }
   ],
   "source": [
    "data.plot(x = 'co2',y = 'no')"
   ]
  },
  {
   "cell_type": "code",
   "execution_count": 27,
   "metadata": {},
   "outputs": [
    {
     "data": {
      "text/plain": [
       "<matplotlib.axes._subplots.AxesSubplot at 0x23c666a97f0>"
      ]
     },
     "execution_count": 27,
     "metadata": {},
     "output_type": "execute_result"
    },
    {
     "data": {
      "image/png": "[encoded data removed]",
      "text/plain": [
       "<matplotlib.figure.Figure at 0x23c6345c3c8>"
      ]
     },
     "metadata": {},
     "output_type": "display_data"
    }
   ],
   "source": [
    "data.plot(x = 'no',y = 'no2')"
   ]
  },
  {
   "cell_type": "code",
   "execution_count": 28,
   "metadata": {},
   "outputs": [
    {
     "data": {
      "text/plain": [
       "<matplotlib.axes._subplots.AxesSubplot at 0x23c65000a20>"
      ]
     },
     "execution_count": 28,
     "metadata": {},
     "output_type": "execute_result"
    },
    {
     "data": {
      "image/png": "[encoded data removed]",
      "text/plain": [
       "<matplotlib.figure.Figure at 0x23c636d5358>"
      ]
     },
     "metadata": {},
     "output_type": "display_data"
    }
   ],
   "source": [
    "data.plot(x = 'co2',y = 'no2')"
   ]
  },
  {
   "cell_type": "code",
   "execution_count": 29,
   "metadata": {},
   "outputs": [
    {
     "data": {
      "image/png": "[encoded data removed]",
      "text/plain": [
       "<matplotlib.figure.Figure at 0x23c63636978>"
      ]
     },
     "metadata": {},
     "output_type": "display_data"
    }
   ],
   "source": [
    "plt.scatter(x = 'pm10',y = 'pm2.5')\n",
    "plt.show()"
   ]
  },
  {
   "cell_type": "code",
   "execution_count": 30,
   "metadata": {},
   "outputs": [
    {
     "data": {
      "text/html": [
       "<div>\n",
       "<style scoped>\n",
       "    .dataframe tbody tr th:only-of-type {\n",
       "        vertical-align: middle;\n",
       "    }\n",
       "\n",
       "    .dataframe tbody tr th {\n",
       "        vertical-align: top;\n",
       "    }\n",
       "\n",
       "    .dataframe thead th {\n",
       "        text-align: right;\n",
       "    }\n",
       "</style>\n",
       "<table border=\"1\" class=\"dataframe\">\n",
       "  <thead>\n",
       "    <tr style=\"text-align: right;\">\n",
       "      <th></th>\n",
       "      <th>missing data co2</th>\n",
       "      <th>missing data humi</th>\n",
       "      <th>missing data no</th>\n",
       "      <th>missing data no2</th>\n",
       "      <th>missing data pm10</th>\n",
       "      <th>missing data pm2.5</th>\n",
       "      <th>missing data temp</th>\n",
       "    </tr>\n",
       "  </thead>\n",
       "  <tbody>\n",
       "    <tr>\n",
       "      <th>missing data co2</th>\n",
       "      <td>34095</td>\n",
       "      <td>15977</td>\n",
       "      <td>21284</td>\n",
       "      <td>19053</td>\n",
       "      <td>17743</td>\n",
       "      <td>30287</td>\n",
       "      <td>16084</td>\n",
       "    </tr>\n",
       "    <tr>\n",
       "      <th>missing data humi</th>\n",
       "      <td>15977</td>\n",
       "      <td>17018</td>\n",
       "      <td>15955</td>\n",
       "      <td>15924</td>\n",
       "      <td>15906</td>\n",
       "      <td>17008</td>\n",
       "      <td>16985</td>\n",
       "    </tr>\n",
       "    <tr>\n",
       "      <th>missing data no</th>\n",
       "      <td>21284</td>\n",
       "      <td>15955</td>\n",
       "      <td>98614</td>\n",
       "      <td>46621</td>\n",
       "      <td>19597</td>\n",
       "      <td>89744</td>\n",
       "      <td>16068</td>\n",
       "    </tr>\n",
       "    <tr>\n",
       "      <th>missing data no2</th>\n",
       "      <td>19053</td>\n",
       "      <td>15924</td>\n",
       "      <td>46621</td>\n",
       "      <td>46623</td>\n",
       "      <td>17246</td>\n",
       "      <td>38726</td>\n",
       "      <td>16037</td>\n",
       "    </tr>\n",
       "    <tr>\n",
       "      <th>missing data pm10</th>\n",
       "      <td>17743</td>\n",
       "      <td>15906</td>\n",
       "      <td>19597</td>\n",
       "      <td>17246</td>\n",
       "      <td>32425</td>\n",
       "      <td>31151</td>\n",
       "      <td>15941</td>\n",
       "    </tr>\n",
       "    <tr>\n",
       "      <th>missing data pm2.5</th>\n",
       "      <td>30287</td>\n",
       "      <td>17008</td>\n",
       "      <td>89744</td>\n",
       "      <td>38726</td>\n",
       "      <td>31151</td>\n",
       "      <td>304035</td>\n",
       "      <td>17096</td>\n",
       "    </tr>\n",
       "    <tr>\n",
       "      <th>missing data temp</th>\n",
       "      <td>16084</td>\n",
       "      <td>16985</td>\n",
       "      <td>16068</td>\n",
       "      <td>16037</td>\n",
       "      <td>15941</td>\n",
       "      <td>17096</td>\n",
       "      <td>17114</td>\n",
       "    </tr>\n",
       "  </tbody>\n",
       "</table>\n",
       "</div>"
      ],
      "text/plain": [
       "                    missing data co2  missing data humi  missing data no  \\\n",
       "missing data co2               34095              15977            21284   \n",
       "missing data humi              15977              17018            15955   \n",
       "missing data no                21284              15955            98614   \n",
       "missing data no2               19053              15924            46621   \n",
       "missing data pm10              17743              15906            19597   \n",
       "missing data pm2.5             30287              17008            89744   \n",
       "missing data temp              16084              16985            16068   \n",
       "\n",
       "                    missing data no2  missing data pm10  missing data pm2.5  \\\n",
       "missing data co2               19053              17743               30287   \n",
       "missing data humi              15924              15906               17008   \n",
       "missing data no                46621              19597               89744   \n",
       "missing data no2               46623              17246               38726   \n",
       "missing data pm10              17246              32425               31151   \n",
       "missing data pm2.5             38726              31151              304035   \n",
       "missing data temp              16037              15941               17096   \n",
       "\n",
       "                    missing data temp  \n",
       "missing data co2                16084  \n",
       "missing data humi               16985  \n",
       "missing data no                 16068  \n",
       "missing data no2                16037  \n",
       "missing data pm10               15941  \n",
       "missing data pm2.5              17096  \n",
       "missing data temp               17114  "
      ]
     },
     "execution_count": 30,
     "metadata": {},
     "output_type": "execute_result"
    }
   ],
   "source": [
    "def valeur(x):\n",
    "    return [len(data[data[x].isnull() & \n",
    "                        data[\"co2\"].isnull()]),len(data[data[x].isnull() & \n",
    "                        data[\"humi\"].isnull()]), len(data[data[x].isnull() & \n",
    "                        data[\"no\"].isnull()]),len(data[data[x].isnull() & \n",
    "                        data[\"no2\"].isnull()]),len(data[data[x].isnull() & \n",
    "                        data[\"pm10\"].isnull()]),len(data[data[x].isnull() & \n",
    "                        data[\"pm2.5\"].isnull()]),len(data[data[x].isnull() & \n",
    "                        data[\"temp\"].isnull()])]\n",
    "                \n",
    "\n",
    "d =  {'col1' : valeur('co2'),'col2': valeur('humi'),'col3' : valeur('no'), \n",
    "      'col4': valeur ('no2'), 'col5' : valeur('pm10'), 'col6': valeur('pm2.5'), 'col7' : valeur('temp')}\n",
    "\n",
    "\n",
    "df1= pd.DataFrame(data=d, index = ['missing data co2','missing data humi', 'missing data no', \n",
    "             'missing data no2', 'missing data pm10', 'missing data pm2.5', 'missing data temp'])\n",
    "df1.columns=['missing data co2', 'missing data humi', 'missing data no', \n",
    "             'missing data no2', 'missing data pm10', 'missing data pm2.5', 'missing data temp']\n",
    "\n",
    "\n",
    "df1\n",
    "                                                   "
   ]
  },
  {
   "cell_type": "markdown",
   "metadata": {},
   "source": [
    "Nombre de données manquantes \n",
    "en binome:\n",
    "min missing data pm10 et humi 15 906\n",
    "max missing data pm2.5 et no 89744\n",
    "en absolu : \n",
    "min humi \n",
    "max pm2.5\n"
   ]
  },
  {
   "cell_type": "code",
   "execution_count": 31,
   "metadata": {},
   "outputs": [
    {
     "data": {
      "text/plain": [
       "<bound method DataFrame.min of                     missing data co2  missing data humi  missing data no  \\\n",
       "missing data co2               34095              15977            21284   \n",
       "missing data humi              15977              17018            15955   \n",
       "missing data no                21284              15955            98614   \n",
       "missing data no2               19053              15924            46621   \n",
       "missing data pm10              17743              15906            19597   \n",
       "missing data pm2.5             30287              17008            89744   \n",
       "missing data temp              16084              16985            16068   \n",
       "\n",
       "                    missing data no2  missing data pm10  missing data pm2.5  \\\n",
       "missing data co2               19053              17743               30287   \n",
       "missing data humi              15924              15906               17008   \n",
       "missing data no                46621              19597               89744   \n",
       "missing data no2               46623              17246               38726   \n",
       "missing data pm10              17246              32425               31151   \n",
       "missing data pm2.5             38726              31151              304035   \n",
       "missing data temp              16037              15941               17096   \n",
       "\n",
       "                    missing data temp  \n",
       "missing data co2                16084  \n",
       "missing data humi               16985  \n",
       "missing data no                 16068  \n",
       "missing data no2                16037  \n",
       "missing data pm10               15941  \n",
       "missing data pm2.5              17096  \n",
       "missing data temp               17114  >"
      ]
     },
     "execution_count": 31,
     "metadata": {},
     "output_type": "execute_result"
    }
   ],
   "source": [
    "df1.min"
   ]
  }
 ],
 "metadata": {
  "kernelspec": {
   "display_name": "Python 3",
   "language": "python",
   "name": "python3"
  },
  "language_info": {
   "codemirror_mode": {
    "name": "ipython",
    "version": 3
   },
   "file_extension": ".py",
   "mimetype": "text/x-python",
   "name": "python",
   "nbconvert_exporter": "python",
   "pygments_lexer": "ipython3",
   "version": "3.6.2"
  }
 },
 "nbformat": 4,
 "nbformat_minor": 2
}
