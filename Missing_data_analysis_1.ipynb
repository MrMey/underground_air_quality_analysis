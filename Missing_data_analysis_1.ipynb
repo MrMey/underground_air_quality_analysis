{
 "cells": [
  {
   "cell_type": "markdown",
   "metadata": {},
   "source": [
    "# Missing Data Analysis"
   ]
  },
  {
   "cell_type": "markdown",
   "metadata": {},
   "source": [
    "Approche\n",
    "\n",
    "- Premier état des lieux des données manquantes --> qu'a-t-on besoin de savoir ?\n",
    "- Suppression des données inutiles et trop manquantes et pas de lien avec le pb étudié (fréquentation) :pm10, pm2.5\n",
    "- Comprendre l'évolution des données manquantes selon stations et années \n",
    "    -- multiples graphes par station et par année :\n",
    "    différents profils identifier si les scenari sont différents ou non pour savoir si on fait plusieurs modèles\n",
    "    -- se limiter à Auber qui contient le moins le données manquantes\n",
    "    -- la répartition des données manquantes varie par année donc la fourchette temporelle d'une analyse doit être \n",
    "    limitée à une année\n",
    "    -- étudier les plages temporelles de données manquantes (1 heure sur deux il y a qqchose ou un il y a un mois\n",
    "    manquant)\n",
    "- Stratégie de remplacement des données manquantes \n",
    "\n",
    "\n",
    "NB \n",
    " - Input data \n",
    " - Entrees temp min max (météo)\n",
    " - Output data \n",
    " - Sorties air quality analysis\n"
   ]
  },
  {
   "cell_type": "markdown",
   "metadata": {},
   "source": [
    "### Packages importations"
   ]
  },
  {
   "cell_type": "code",
   "execution_count": 1,
   "metadata": {},
   "outputs": [],
   "source": [
    "import pandas as pd\n",
    "import seaborn as sns\n",
    "import numpy as np\n",
    "import matplotlib.pyplot as plt"
   ]
  },
  {
   "cell_type": "markdown",
   "metadata": {},
   "source": [
    "### Data first discovery"
   ]
  },
  {
   "cell_type": "code",
   "execution_count": 2,
   "metadata": {},
   "outputs": [],
   "source": [
    "data = pd.read_csv('all_data.csv',low_memory =False)"
   ]
  },
  {
   "cell_type": "markdown",
   "metadata": {},
   "source": [
    "#### Date & Time processing"
   ]
  },
  {
   "cell_type": "code",
   "execution_count": 3,
   "metadata": {},
   "outputs": [],
   "source": [
    "data['year'],data['month'],data['day'] = data[\"date\"].str.split(\"-\").str\n",
    "data['year'] = data['year'].astype(int)\n",
    "data['month'] = data['month'].astype(int)\n",
    "data['day'] = data['day'].astype(int)\n",
    "data['hour'],data['minute'],data['second'] = data[\"time\"].str.split(\":\").str\n",
    "data['hour'] = data['hour'].astype(int)\n",
    "data['minute'] = data['minute'].astype(int)\n",
    "data['second'] = data['second'].astype(int)\n",
    "data['date'] = pd.to_datetime(data['date'], format = \"%Y-%m-%d\")\n",
    "data['time'] = pd.to_datetime(data['time'], format = \"%H:%M:%S\")\n",
    "data['time'] = data[\"time\"].dt.time"
   ]
  },
  {
   "cell_type": "code",
   "execution_count": null,
   "metadata": {},
   "outputs": [],
   "source": [
    "data['date_time'] = pd.to_datetime(data['date'], format = \"%Y-%m-%d\")"
   ]
  },
  {
   "cell_type": "markdown",
   "metadata": {},
   "source": [
    "#### Missing data"
   ]
  },
  {
   "cell_type": "code",
   "execution_count": 4,
   "metadata": {},
   "outputs": [
    {
     "name": "stdout",
     "output_type": "stream",
     "text": [
      "missing data in co2 : 34095 i.e. 0.0008681492722772781%\n",
      "missing data in humi : 17018 i.e. 0.0004333234877728324%\n",
      "missing data in no : 98614 i.e. 0.0025109744049377184%\n",
      "missing data in no2 : 46623 i.e. 0.0011871454325086829%\n",
      "missing data in pm10 : 32425 i.e. 0.000825626635975678%\n",
      "missing data in pm2.5 : 304035 i.e. 0.007741538759255676%\n",
      "missing data in station : 0 i.e. 0.0%\n",
      "missing data in temp : 17114 i.e. 0.00043576790279376264%\n",
      "missing data in date : 0 i.e. 0.0%\n",
      "missing data in time : 0 i.e. 0.0%\n",
      "missing data in precipitation : 538 i.e. 1.369890917979691e-05%\n",
      "missing data in temp_min : 538 i.e. 1.369890917979691e-05%\n",
      "missing data in temp_max : 538 i.e. 1.369890917979691e-05%\n",
      "missing data in ligne : 0 i.e. 0.0%\n",
      "missing data in stop_id : 0 i.e. 0.0%\n",
      "missing data in year : 0 i.e. 0.0%\n",
      "missing data in month : 0 i.e. 0.0%\n",
      "missing data in day : 0 i.e. 0.0%\n",
      "missing data in hour : 0 i.e. 0.0%\n",
      "missing data in minute : 0 i.e. 0.0%\n",
      "missing data in second : 0 i.e. 0.0%\n"
     ]
    }
   ],
   "source": [
    "for col in data.columns:\n",
    "    print(\"missing data in {} : {} i.e. {}%\".format(col,len(data[data[col].isnull()]),\n",
    "                                                       len(data[data[col].isnull()])/float(len(data)*100)))"
   ]
  },
  {
   "cell_type": "markdown",
   "metadata": {},
   "source": [
    "Top three missing data columns :  \n",
    "-no  \n",
    "-pm10  \n",
    "-pm2.5  \n",
    "-co2  \n",
    "\n",
    "WARNING no missing data in timetable, stations ect... because I(romain) generated the data"
   ]
  },
  {
   "cell_type": "code",
   "execution_count": 5,
   "metadata": {},
   "outputs": [
    {
     "name": "stdout",
     "output_type": "stream",
     "text": [
      "15860\n"
     ]
    }
   ],
   "source": [
    "print(len(data[data[\"co2\"].isnull() & \n",
    "                        data[\"humi\"].isnull() &\n",
    "                        data[\"no\"].isnull() & \n",
    "                        data[\"no2\"].isnull() &\n",
    "                        data[\"pm10\"].isnull() & \n",
    "                        data[\"pm2.5\"].isnull() & \n",
    "                        data[\"no2\"].isnull() & \n",
    "                       data[\"temp\"].isnull()]))"
   ]
  },
  {
   "cell_type": "code",
   "execution_count": 6,
   "metadata": {},
   "outputs": [
    {
     "data": {
      "text/html": [
       "<div>\n",
       "<style scoped>\n",
       "    .dataframe tbody tr th:only-of-type {\n",
       "        vertical-align: middle;\n",
       "    }\n",
       "\n",
       "    .dataframe tbody tr th {\n",
       "        vertical-align: top;\n",
       "    }\n",
       "\n",
       "    .dataframe thead th {\n",
       "        text-align: right;\n",
       "    }\n",
       "</style>\n",
       "<table border=\"1\" class=\"dataframe\">\n",
       "  <thead>\n",
       "    <tr style=\"text-align: right;\">\n",
       "      <th></th>\n",
       "      <th>co2</th>\n",
       "      <th>humi</th>\n",
       "      <th>no</th>\n",
       "      <th>no2</th>\n",
       "      <th>pm10</th>\n",
       "      <th>pm2.5</th>\n",
       "      <th>station</th>\n",
       "      <th>temp</th>\n",
       "      <th>date</th>\n",
       "      <th>time</th>\n",
       "      <th>...</th>\n",
       "      <th>temp_min</th>\n",
       "      <th>temp_max</th>\n",
       "      <th>ligne</th>\n",
       "      <th>stop_id</th>\n",
       "      <th>year</th>\n",
       "      <th>month</th>\n",
       "      <th>day</th>\n",
       "      <th>hour</th>\n",
       "      <th>minute</th>\n",
       "      <th>second</th>\n",
       "    </tr>\n",
       "  </thead>\n",
       "  <tbody>\n",
       "    <tr>\n",
       "      <th>0</th>\n",
       "      <td>403.0</td>\n",
       "      <td>51.2</td>\n",
       "      <td>NaN</td>\n",
       "      <td>NaN</td>\n",
       "      <td>295.0</td>\n",
       "      <td>118.0</td>\n",
       "      <td>auber</td>\n",
       "      <td>20.4</td>\n",
       "      <td>2013-01-01</td>\n",
       "      <td>10:00:00</td>\n",
       "      <td>...</td>\n",
       "      <td>8.0</td>\n",
       "      <td>9.0</td>\n",
       "      <td>3</td>\n",
       "      <td>389</td>\n",
       "      <td>2013</td>\n",
       "      <td>1</td>\n",
       "      <td>1</td>\n",
       "      <td>10</td>\n",
       "      <td>0</td>\n",
       "      <td>0</td>\n",
       "    </tr>\n",
       "    <tr>\n",
       "      <th>1</th>\n",
       "      <td>403.0</td>\n",
       "      <td>51.2</td>\n",
       "      <td>NaN</td>\n",
       "      <td>NaN</td>\n",
       "      <td>295.0</td>\n",
       "      <td>118.0</td>\n",
       "      <td>auber</td>\n",
       "      <td>20.4</td>\n",
       "      <td>2013-01-01</td>\n",
       "      <td>10:00:00</td>\n",
       "      <td>...</td>\n",
       "      <td>8.0</td>\n",
       "      <td>9.0</td>\n",
       "      <td>9</td>\n",
       "      <td>402</td>\n",
       "      <td>2013</td>\n",
       "      <td>1</td>\n",
       "      <td>1</td>\n",
       "      <td>10</td>\n",
       "      <td>0</td>\n",
       "      <td>0</td>\n",
       "    </tr>\n",
       "    <tr>\n",
       "      <th>2</th>\n",
       "      <td>403.0</td>\n",
       "      <td>51.2</td>\n",
       "      <td>NaN</td>\n",
       "      <td>NaN</td>\n",
       "      <td>295.0</td>\n",
       "      <td>118.0</td>\n",
       "      <td>auber</td>\n",
       "      <td>20.4</td>\n",
       "      <td>2013-01-01</td>\n",
       "      <td>10:00:00</td>\n",
       "      <td>...</td>\n",
       "      <td>8.0</td>\n",
       "      <td>9.0</td>\n",
       "      <td>a</td>\n",
       "      <td>95</td>\n",
       "      <td>2013</td>\n",
       "      <td>1</td>\n",
       "      <td>1</td>\n",
       "      <td>10</td>\n",
       "      <td>0</td>\n",
       "      <td>0</td>\n",
       "    </tr>\n",
       "    <tr>\n",
       "      <th>3</th>\n",
       "      <td>767.0</td>\n",
       "      <td>46.4</td>\n",
       "      <td>99.0</td>\n",
       "      <td>54.0</td>\n",
       "      <td>362.0</td>\n",
       "      <td>110.0</td>\n",
       "      <td>auber</td>\n",
       "      <td>18.3</td>\n",
       "      <td>2013-01-15</td>\n",
       "      <td>10:00:00</td>\n",
       "      <td>...</td>\n",
       "      <td>-1.0</td>\n",
       "      <td>1.0</td>\n",
       "      <td>3</td>\n",
       "      <td>389</td>\n",
       "      <td>2013</td>\n",
       "      <td>1</td>\n",
       "      <td>15</td>\n",
       "      <td>10</td>\n",
       "      <td>0</td>\n",
       "      <td>0</td>\n",
       "    </tr>\n",
       "    <tr>\n",
       "      <th>4</th>\n",
       "      <td>767.0</td>\n",
       "      <td>46.4</td>\n",
       "      <td>99.0</td>\n",
       "      <td>54.0</td>\n",
       "      <td>362.0</td>\n",
       "      <td>110.0</td>\n",
       "      <td>auber</td>\n",
       "      <td>18.3</td>\n",
       "      <td>2013-01-15</td>\n",
       "      <td>10:00:00</td>\n",
       "      <td>...</td>\n",
       "      <td>-1.0</td>\n",
       "      <td>1.0</td>\n",
       "      <td>9</td>\n",
       "      <td>402</td>\n",
       "      <td>2013</td>\n",
       "      <td>1</td>\n",
       "      <td>15</td>\n",
       "      <td>10</td>\n",
       "      <td>0</td>\n",
       "      <td>0</td>\n",
       "    </tr>\n",
       "  </tbody>\n",
       "</table>\n",
       "<p>5 rows × 21 columns</p>\n",
       "</div>"
      ],
      "text/plain": [
       "     co2  humi    no   no2   pm10  pm2.5 station  temp       date      time  \\\n",
       "0  403.0  51.2   NaN   NaN  295.0  118.0   auber  20.4 2013-01-01  10:00:00   \n",
       "1  403.0  51.2   NaN   NaN  295.0  118.0   auber  20.4 2013-01-01  10:00:00   \n",
       "2  403.0  51.2   NaN   NaN  295.0  118.0   auber  20.4 2013-01-01  10:00:00   \n",
       "3  767.0  46.4  99.0  54.0  362.0  110.0   auber  18.3 2013-01-15  10:00:00   \n",
       "4  767.0  46.4  99.0  54.0  362.0  110.0   auber  18.3 2013-01-15  10:00:00   \n",
       "\n",
       "    ...    temp_min  temp_max  ligne stop_id  year  month  day  hour  minute  \\\n",
       "0   ...         8.0       9.0      3     389  2013      1    1    10       0   \n",
       "1   ...         8.0       9.0      9     402  2013      1    1    10       0   \n",
       "2   ...         8.0       9.0      a      95  2013      1    1    10       0   \n",
       "3   ...        -1.0       1.0      3     389  2013      1   15    10       0   \n",
       "4   ...        -1.0       1.0      9     402  2013      1   15    10       0   \n",
       "\n",
       "   second  \n",
       "0       0  \n",
       "1       0  \n",
       "2       0  \n",
       "3       0  \n",
       "4       0  \n",
       "\n",
       "[5 rows x 21 columns]"
      ]
     },
     "execution_count": 6,
     "metadata": {},
     "output_type": "execute_result"
    }
   ],
   "source": [
    "data.head()"
   ]
  },
  {
   "cell_type": "markdown",
   "metadata": {},
   "source": [
    "For 15860 raws, data is missing for almost all sensors (except rain) -> remove all these rows"
   ]
  },
  {
   "cell_type": "markdown",
   "metadata": {},
   "source": [
    "### Missing data arrays"
   ]
  },
  {
   "cell_type": "code",
   "execution_count": 7,
   "metadata": {},
   "outputs": [
    {
     "data": {
      "text/html": [
       "<div>\n",
       "<style scoped>\n",
       "    .dataframe tbody tr th:only-of-type {\n",
       "        vertical-align: middle;\n",
       "    }\n",
       "\n",
       "    .dataframe tbody tr th {\n",
       "        vertical-align: top;\n",
       "    }\n",
       "\n",
       "    .dataframe thead th {\n",
       "        text-align: right;\n",
       "    }\n",
       "</style>\n",
       "<table border=\"1\" class=\"dataframe\">\n",
       "  <thead>\n",
       "    <tr style=\"text-align: right;\">\n",
       "      <th></th>\n",
       "      <th>co2</th>\n",
       "      <th>humi</th>\n",
       "      <th>no</th>\n",
       "      <th>no2</th>\n",
       "      <th>pm10</th>\n",
       "      <th>pm2.5</th>\n",
       "      <th>station</th>\n",
       "      <th>temp</th>\n",
       "      <th>date</th>\n",
       "      <th>time</th>\n",
       "      <th>...</th>\n",
       "      <th>temp_min</th>\n",
       "      <th>temp_max</th>\n",
       "      <th>ligne</th>\n",
       "      <th>stop_id</th>\n",
       "      <th>year</th>\n",
       "      <th>month</th>\n",
       "      <th>day</th>\n",
       "      <th>hour</th>\n",
       "      <th>minute</th>\n",
       "      <th>second</th>\n",
       "    </tr>\n",
       "  </thead>\n",
       "  <tbody>\n",
       "    <tr>\n",
       "      <th>0</th>\n",
       "      <td>403.0</td>\n",
       "      <td>51.2</td>\n",
       "      <td>NaN</td>\n",
       "      <td>NaN</td>\n",
       "      <td>295.0</td>\n",
       "      <td>118.0</td>\n",
       "      <td>auber</td>\n",
       "      <td>20.4</td>\n",
       "      <td>2013-01-01</td>\n",
       "      <td>10:00:00</td>\n",
       "      <td>...</td>\n",
       "      <td>8.0</td>\n",
       "      <td>9.0</td>\n",
       "      <td>3</td>\n",
       "      <td>389</td>\n",
       "      <td>2013</td>\n",
       "      <td>1</td>\n",
       "      <td>1</td>\n",
       "      <td>10</td>\n",
       "      <td>0</td>\n",
       "      <td>0</td>\n",
       "    </tr>\n",
       "    <tr>\n",
       "      <th>1</th>\n",
       "      <td>403.0</td>\n",
       "      <td>51.2</td>\n",
       "      <td>NaN</td>\n",
       "      <td>NaN</td>\n",
       "      <td>295.0</td>\n",
       "      <td>118.0</td>\n",
       "      <td>auber</td>\n",
       "      <td>20.4</td>\n",
       "      <td>2013-01-01</td>\n",
       "      <td>10:00:00</td>\n",
       "      <td>...</td>\n",
       "      <td>8.0</td>\n",
       "      <td>9.0</td>\n",
       "      <td>9</td>\n",
       "      <td>402</td>\n",
       "      <td>2013</td>\n",
       "      <td>1</td>\n",
       "      <td>1</td>\n",
       "      <td>10</td>\n",
       "      <td>0</td>\n",
       "      <td>0</td>\n",
       "    </tr>\n",
       "    <tr>\n",
       "      <th>2</th>\n",
       "      <td>403.0</td>\n",
       "      <td>51.2</td>\n",
       "      <td>NaN</td>\n",
       "      <td>NaN</td>\n",
       "      <td>295.0</td>\n",
       "      <td>118.0</td>\n",
       "      <td>auber</td>\n",
       "      <td>20.4</td>\n",
       "      <td>2013-01-01</td>\n",
       "      <td>10:00:00</td>\n",
       "      <td>...</td>\n",
       "      <td>8.0</td>\n",
       "      <td>9.0</td>\n",
       "      <td>a</td>\n",
       "      <td>95</td>\n",
       "      <td>2013</td>\n",
       "      <td>1</td>\n",
       "      <td>1</td>\n",
       "      <td>10</td>\n",
       "      <td>0</td>\n",
       "      <td>0</td>\n",
       "    </tr>\n",
       "    <tr>\n",
       "      <th>15</th>\n",
       "      <td>NaN</td>\n",
       "      <td>44.2</td>\n",
       "      <td>235.0</td>\n",
       "      <td>48.0</td>\n",
       "      <td>654.0</td>\n",
       "      <td>254.0</td>\n",
       "      <td>auber</td>\n",
       "      <td>17.8</td>\n",
       "      <td>2013-01-17</td>\n",
       "      <td>10:00:00</td>\n",
       "      <td>...</td>\n",
       "      <td>-7.0</td>\n",
       "      <td>0.0</td>\n",
       "      <td>3</td>\n",
       "      <td>389</td>\n",
       "      <td>2013</td>\n",
       "      <td>1</td>\n",
       "      <td>17</td>\n",
       "      <td>10</td>\n",
       "      <td>0</td>\n",
       "      <td>0</td>\n",
       "    </tr>\n",
       "    <tr>\n",
       "      <th>16</th>\n",
       "      <td>NaN</td>\n",
       "      <td>44.2</td>\n",
       "      <td>235.0</td>\n",
       "      <td>48.0</td>\n",
       "      <td>654.0</td>\n",
       "      <td>254.0</td>\n",
       "      <td>auber</td>\n",
       "      <td>17.8</td>\n",
       "      <td>2013-01-17</td>\n",
       "      <td>10:00:00</td>\n",
       "      <td>...</td>\n",
       "      <td>-7.0</td>\n",
       "      <td>0.0</td>\n",
       "      <td>9</td>\n",
       "      <td>402</td>\n",
       "      <td>2013</td>\n",
       "      <td>1</td>\n",
       "      <td>17</td>\n",
       "      <td>10</td>\n",
       "      <td>0</td>\n",
       "      <td>0</td>\n",
       "    </tr>\n",
       "  </tbody>\n",
       "</table>\n",
       "<p>5 rows × 21 columns</p>\n",
       "</div>"
      ],
      "text/plain": [
       "      co2  humi     no   no2   pm10  pm2.5 station  temp       date      time  \\\n",
       "0   403.0  51.2    NaN   NaN  295.0  118.0   auber  20.4 2013-01-01  10:00:00   \n",
       "1   403.0  51.2    NaN   NaN  295.0  118.0   auber  20.4 2013-01-01  10:00:00   \n",
       "2   403.0  51.2    NaN   NaN  295.0  118.0   auber  20.4 2013-01-01  10:00:00   \n",
       "15    NaN  44.2  235.0  48.0  654.0  254.0   auber  17.8 2013-01-17  10:00:00   \n",
       "16    NaN  44.2  235.0  48.0  654.0  254.0   auber  17.8 2013-01-17  10:00:00   \n",
       "\n",
       "     ...    temp_min  temp_max  ligne stop_id  year  month  day  hour  minute  \\\n",
       "0    ...         8.0       9.0      3     389  2013      1    1    10       0   \n",
       "1    ...         8.0       9.0      9     402  2013      1    1    10       0   \n",
       "2    ...         8.0       9.0      a      95  2013      1    1    10       0   \n",
       "15   ...        -7.0       0.0      3     389  2013      1   17    10       0   \n",
       "16   ...        -7.0       0.0      9     402  2013      1   17    10       0   \n",
       "\n",
       "    second  \n",
       "0        0  \n",
       "1        0  \n",
       "2        0  \n",
       "15       0  \n",
       "16       0  \n",
       "\n",
       "[5 rows x 21 columns]"
      ]
     },
     "execution_count": 7,
     "metadata": {},
     "output_type": "execute_result"
    }
   ],
   "source": [
    "missing_data = data[data[\"co2\"].isnull() | \n",
    "                        data[\"humi\"].isnull() |\n",
    "                        data[\"no\"].isnull() | \n",
    "                        data[\"no2\"].isnull() |\n",
    "                        data[\"pm10\"].isnull() | \n",
    "                        data[\"pm2.5\"].isnull() |\n",
    "                       data[\"temp\"].isnull()]\n",
    "missing_data.head()"
   ]
  },
  {
   "cell_type": "code",
   "execution_count": 8,
   "metadata": {},
   "outputs": [
    {
     "data": {
      "text/plain": [
       "<matplotlib.axes._subplots.AxesSubplot at 0x15d6bdb4550>"
      ]
     },
     "execution_count": 8,
     "metadata": {},
     "output_type": "execute_result"
    },
    {
     "data": {
      "image/png": "[encoded data removed]",
      "text/plain": [
       "<matplotlib.figure.Figure at 0x15d6bdb4208>"
      ]
     },
     "metadata": {},
     "output_type": "display_data"
    }
   ],
   "source": [
    "fig, ax = plt.subplots(figsize=(13,4))\n",
    "sns.distplot(missing_data[missing_data['station'] == 'auber']['month'], ax = ax, kde = False, color='blue')\n",
    "sns.distplot(missing_data[missing_data['station'] == 'chatelet']['month'], ax = ax, kde = False, color='red')\n",
    "sns.distplot(missing_data[missing_data['station'] == 'franklin']['month'], ax = ax, kde = False, color='green')"
   ]
  },
  {
   "cell_type": "code",
   "execution_count": 9,
   "metadata": {},
   "outputs": [
    {
     "data": {
      "image/png": "[encoded data removed]",
      "text/plain": [
       "<matplotlib.figure.Figure at 0x15d6bdee588>"
      ]
     },
     "metadata": {},
     "output_type": "display_data"
    }
   ],
   "source": [
    "fig, ax = plt.subplots(figsize=(4,3))\n",
    "ax = sns.countplot(ax=ax,data = missing_data,x=\"station\")"
   ]
  },
  {
   "cell_type": "markdown",
   "metadata": {},
   "source": [
    "Discrepancies in missing data between the stations. Seems like Chatelet station is lacking a lot of data. "
   ]
  },
  {
   "cell_type": "code",
   "execution_count": 10,
   "metadata": {},
   "outputs": [],
   "source": [
    "data_2013 = data[data['date'] < \"2013-12-31\"]"
   ]
  },
  {
   "cell_type": "code",
   "execution_count": 11,
   "metadata": {},
   "outputs": [],
   "source": [
    "missing_data_2013 = missing_data[missing_data['date'] < \"2014-01-01\"]\n",
    "missing_data_2014 = missing_data[missing_data['date'] < \"2015-01-01\"]\n",
    "missing_data_2014 = missing_data_2014[missing_data_2014['date'] > \"2013-12-31\"]\n",
    "missing_data_2015 = missing_data[missing_data['date'] < \"2016-01-01\"]\n",
    "missing_data_2015 = missing_data_2015[missing_data_2015['date'] > \"2014-12-31\"]\n",
    "missing_data_2016 = missing_data[missing_data['date'] < \"2017-01-01\"]\n",
    "missing_data_2016 = missing_data_2016[missing_data_2016['date'] > \"2015-12-31\"]\n",
    "missing_data_2017 = missing_data[missing_data['date'] < \"2018-01-01\"]\n",
    "missing_data_2017 = missing_data_2017[missing_data_2017['date'] > \"2016-12-31\"]"
   ]
  },
  {
   "cell_type": "code",
   "execution_count": 12,
   "metadata": {},
   "outputs": [
    {
     "data": {
      "text/plain": [
       "Text(0.5,1,'2016')"
      ]
     },
     "execution_count": 12,
     "metadata": {},
     "output_type": "execute_result"
    },
    {
     "data": {
      "image/png": "[encoded data removed]",
      "text/plain": [
       "<matplotlib.figure.Figure at 0x15d64732f60>"
      ]
     },
     "metadata": {},
     "output_type": "display_data"
    },
    {
     "data": {
      "image/png": "[encoded data removed]",
      "text/plain": [
       "<matplotlib.figure.Figure at 0x15d64732f28>"
      ]
     },
     "metadata": {},
     "output_type": "display_data"
    },
    {
     "data": {
      "image/png": "[encoded data removed]",
      "text/plain": [
       "<matplotlib.figure.Figure at 0x15d6477f978>"
      ]
     },
     "metadata": {},
     "output_type": "display_data"
    },
    {
     "data": {
      "image/png": "[encoded data removed]",
      "text/plain": [
       "<matplotlib.figure.Figure at 0x15d67748fd0>"
      ]
     },
     "metadata": {},
     "output_type": "display_data"
    }
   ],
   "source": [
    "\n",
    "#2013\n",
    "fig, ax = plt.subplots(figsize=(8,4))\n",
    "sns.distplot(missing_data_2013[missing_data_2013['station'] == 'auber']['month'], ax = ax, kde = False, color='blue', label = 'Auber')\n",
    "sns.distplot(missing_data_2013[missing_data_2013['station'] == 'chatelet']['month'], ax = ax, kde = False, color='red')\n",
    "sns.distplot(missing_data_2013[missing_data_2013['station'] == 'franklin']['month'], ax = ax, kde = False, color='green')\n",
    "plt.title('2013')\n",
    "\n",
    "#2014\n",
    "fig, ax = plt.subplots(figsize=(8,4))\n",
    "sns.distplot(missing_data_2014[missing_data_2014['station'] == 'auber']['month'], ax = ax, kde = False, color='blue', label = 'Auber')\n",
    "sns.distplot(missing_data_2014[missing_data_2014['station'] == 'chatelet']['month'], ax = ax, kde = False, color='red')\n",
    "sns.distplot(missing_data_2014[missing_data_2014['station'] == 'franklin']['month'], ax = ax, kde = False, color='green')\n",
    "plt.title('2014')\n",
    "\n",
    "#2015\n",
    "fig, ax = plt.subplots(figsize=(8,4))\n",
    "sns.distplot(missing_data_2015[missing_data_2015['station'] == 'auber']['month'], ax = ax, kde = False, color='blue', label = 'Auber')\n",
    "sns.distplot(missing_data_2015[missing_data_2015['station'] == 'chatelet']['month'], ax = ax, kde = False, color='red')\n",
    "sns.distplot(missing_data_2015[missing_data_2015['station'] == 'franklin']['month'], ax = ax, kde = False, color='green')\n",
    "plt.title('2015')\n",
    "\n",
    "#2016\n",
    "fig, ax = plt.subplots(figsize=(8,4))\n",
    "sns.distplot(missing_data_2016[missing_data_2016['station'] == 'auber']['month'], ax = ax, kde = False, color='blue', label = 'Auber')\n",
    "sns.distplot(missing_data_2016[missing_data_2016['station'] == 'chatelet']['month'], ax = ax, kde = False, color='red')\n",
    "sns.distplot(missing_data_2016[missing_data_2016['station'] == 'franklin']['month'], ax = ax, kde = False, color='green')\n",
    "plt.title('2016')"
   ]
  },
  {
   "cell_type": "markdown",
   "metadata": {},
   "source": [
    "Quantité d'informations manquantes similaires d'année en année en moyenne.\n",
    "Pas de saisonnalité dans les données manquantes de Chatelet et Franklin. \n",
    "En revanche, évolution au cours de l'année pour Auber. Cette fois-ci le comportement varie d'une année sur l'autre. Certains années, la majorite des données manquantes apparaît autour des mois de l'été, d'autres années, non. \n",
    "Ainsi si l'on met de côté Chatelet et Franklin au vu de l'écart du montant des données manquantes, il ne nous reste qu'Auber. En ne gardant qu'Auber, il est judicieux de ne garder qu'une année en particulier pour faire un modèle car les scénarios sont différents"
   ]
  },
  {
   "cell_type": "markdown",
   "metadata": {},
   "source": [
    "### Plage des données manquantes"
   ]
  },
  {
   "cell_type": "code",
   "execution_count": 13,
   "metadata": {},
   "outputs": [
    {
     "data": {
      "text/html": [
       "<div>\n",
       "<style scoped>\n",
       "    .dataframe tbody tr th:only-of-type {\n",
       "        vertical-align: middle;\n",
       "    }\n",
       "\n",
       "    .dataframe tbody tr th {\n",
       "        vertical-align: top;\n",
       "    }\n",
       "\n",
       "    .dataframe thead th {\n",
       "        text-align: right;\n",
       "    }\n",
       "</style>\n",
       "<table border=\"1\" class=\"dataframe\">\n",
       "  <thead>\n",
       "    <tr style=\"text-align: right;\">\n",
       "      <th></th>\n",
       "      <th>co2</th>\n",
       "      <th>humi</th>\n",
       "      <th>no</th>\n",
       "      <th>no2</th>\n",
       "      <th>pm10</th>\n",
       "      <th>pm2.5</th>\n",
       "      <th>station</th>\n",
       "      <th>temp</th>\n",
       "      <th>date</th>\n",
       "      <th>time</th>\n",
       "      <th>...</th>\n",
       "      <th>temp_min</th>\n",
       "      <th>temp_max</th>\n",
       "      <th>ligne</th>\n",
       "      <th>stop_id</th>\n",
       "      <th>year</th>\n",
       "      <th>month</th>\n",
       "      <th>day</th>\n",
       "      <th>hour</th>\n",
       "      <th>minute</th>\n",
       "      <th>second</th>\n",
       "    </tr>\n",
       "  </thead>\n",
       "  <tbody>\n",
       "    <tr>\n",
       "      <th>3159</th>\n",
       "      <td>NaN</td>\n",
       "      <td>NaN</td>\n",
       "      <td>NaN</td>\n",
       "      <td>NaN</td>\n",
       "      <td>NaN</td>\n",
       "      <td>NaN</td>\n",
       "      <td>auber</td>\n",
       "      <td>NaN</td>\n",
       "      <td>2016-07-30</td>\n",
       "      <td>10:00:00</td>\n",
       "      <td>...</td>\n",
       "      <td>16.0</td>\n",
       "      <td>23.0</td>\n",
       "      <td>3</td>\n",
       "      <td>389</td>\n",
       "      <td>2016</td>\n",
       "      <td>7</td>\n",
       "      <td>30</td>\n",
       "      <td>10</td>\n",
       "      <td>0</td>\n",
       "      <td>0</td>\n",
       "    </tr>\n",
       "    <tr>\n",
       "      <th>3160</th>\n",
       "      <td>NaN</td>\n",
       "      <td>NaN</td>\n",
       "      <td>NaN</td>\n",
       "      <td>NaN</td>\n",
       "      <td>NaN</td>\n",
       "      <td>NaN</td>\n",
       "      <td>auber</td>\n",
       "      <td>NaN</td>\n",
       "      <td>2016-07-30</td>\n",
       "      <td>10:00:00</td>\n",
       "      <td>...</td>\n",
       "      <td>16.0</td>\n",
       "      <td>23.0</td>\n",
       "      <td>9</td>\n",
       "      <td>402</td>\n",
       "      <td>2016</td>\n",
       "      <td>7</td>\n",
       "      <td>30</td>\n",
       "      <td>10</td>\n",
       "      <td>0</td>\n",
       "      <td>0</td>\n",
       "    </tr>\n",
       "    <tr>\n",
       "      <th>3161</th>\n",
       "      <td>NaN</td>\n",
       "      <td>NaN</td>\n",
       "      <td>NaN</td>\n",
       "      <td>NaN</td>\n",
       "      <td>NaN</td>\n",
       "      <td>NaN</td>\n",
       "      <td>auber</td>\n",
       "      <td>NaN</td>\n",
       "      <td>2016-07-30</td>\n",
       "      <td>10:00:00</td>\n",
       "      <td>...</td>\n",
       "      <td>16.0</td>\n",
       "      <td>23.0</td>\n",
       "      <td>a</td>\n",
       "      <td>95</td>\n",
       "      <td>2016</td>\n",
       "      <td>7</td>\n",
       "      <td>30</td>\n",
       "      <td>10</td>\n",
       "      <td>0</td>\n",
       "      <td>0</td>\n",
       "    </tr>\n",
       "    <tr>\n",
       "      <th>3162</th>\n",
       "      <td>NaN</td>\n",
       "      <td>NaN</td>\n",
       "      <td>NaN</td>\n",
       "      <td>NaN</td>\n",
       "      <td>NaN</td>\n",
       "      <td>NaN</td>\n",
       "      <td>auber</td>\n",
       "      <td>NaN</td>\n",
       "      <td>2016-08-02</td>\n",
       "      <td>10:00:00</td>\n",
       "      <td>...</td>\n",
       "      <td>20.0</td>\n",
       "      <td>23.0</td>\n",
       "      <td>3</td>\n",
       "      <td>389</td>\n",
       "      <td>2016</td>\n",
       "      <td>8</td>\n",
       "      <td>2</td>\n",
       "      <td>10</td>\n",
       "      <td>0</td>\n",
       "      <td>0</td>\n",
       "    </tr>\n",
       "    <tr>\n",
       "      <th>3163</th>\n",
       "      <td>NaN</td>\n",
       "      <td>NaN</td>\n",
       "      <td>NaN</td>\n",
       "      <td>NaN</td>\n",
       "      <td>NaN</td>\n",
       "      <td>NaN</td>\n",
       "      <td>auber</td>\n",
       "      <td>NaN</td>\n",
       "      <td>2016-08-02</td>\n",
       "      <td>10:00:00</td>\n",
       "      <td>...</td>\n",
       "      <td>20.0</td>\n",
       "      <td>23.0</td>\n",
       "      <td>9</td>\n",
       "      <td>402</td>\n",
       "      <td>2016</td>\n",
       "      <td>8</td>\n",
       "      <td>2</td>\n",
       "      <td>10</td>\n",
       "      <td>0</td>\n",
       "      <td>0</td>\n",
       "    </tr>\n",
       "  </tbody>\n",
       "</table>\n",
       "<p>5 rows × 21 columns</p>\n",
       "</div>"
      ],
      "text/plain": [
       "      co2  humi  no  no2  pm10  pm2.5 station  temp       date      time  \\\n",
       "3159  NaN   NaN NaN  NaN   NaN    NaN   auber   NaN 2016-07-30  10:00:00   \n",
       "3160  NaN   NaN NaN  NaN   NaN    NaN   auber   NaN 2016-07-30  10:00:00   \n",
       "3161  NaN   NaN NaN  NaN   NaN    NaN   auber   NaN 2016-07-30  10:00:00   \n",
       "3162  NaN   NaN NaN  NaN   NaN    NaN   auber   NaN 2016-08-02  10:00:00   \n",
       "3163  NaN   NaN NaN  NaN   NaN    NaN   auber   NaN 2016-08-02  10:00:00   \n",
       "\n",
       "       ...    temp_min  temp_max  ligne stop_id  year  month  day  hour  \\\n",
       "3159   ...        16.0      23.0      3     389  2016      7   30    10   \n",
       "3160   ...        16.0      23.0      9     402  2016      7   30    10   \n",
       "3161   ...        16.0      23.0      a      95  2016      7   30    10   \n",
       "3162   ...        20.0      23.0      3     389  2016      8    2    10   \n",
       "3163   ...        20.0      23.0      9     402  2016      8    2    10   \n",
       "\n",
       "      minute  second  \n",
       "3159       0       0  \n",
       "3160       0       0  \n",
       "3161       0       0  \n",
       "3162       0       0  \n",
       "3163       0       0  \n",
       "\n",
       "[5 rows x 21 columns]"
      ]
     },
     "execution_count": 13,
     "metadata": {},
     "output_type": "execute_result"
    }
   ],
   "source": [
    "missing_data_2016_auber = missing_data_2016[missing_data_2016[\"station\"] == \"auber\"]\n",
    "missing_data_2016_auber.head()"
   ]
  },
  {
   "cell_type": "code",
   "execution_count": 58,
   "metadata": {},
   "outputs": [
    {
     "data": {
      "text/html": [
       "<div>\n",
       "<style scoped>\n",
       "    .dataframe tbody tr th:only-of-type {\n",
       "        vertical-align: middle;\n",
       "    }\n",
       "\n",
       "    .dataframe tbody tr th {\n",
       "        vertical-align: top;\n",
       "    }\n",
       "\n",
       "    .dataframe thead th {\n",
       "        text-align: right;\n",
       "    }\n",
       "</style>\n",
       "<table border=\"1\" class=\"dataframe\">\n",
       "  <thead>\n",
       "    <tr style=\"text-align: right;\">\n",
       "      <th></th>\n",
       "      <th>co2</th>\n",
       "      <th>humi</th>\n",
       "      <th>no</th>\n",
       "      <th>no2</th>\n",
       "      <th>pm10</th>\n",
       "      <th>pm2.5</th>\n",
       "      <th>station</th>\n",
       "      <th>temp</th>\n",
       "      <th>date</th>\n",
       "      <th>time</th>\n",
       "      <th>...</th>\n",
       "      <th>temp_min</th>\n",
       "      <th>temp_max</th>\n",
       "      <th>ligne</th>\n",
       "      <th>stop_id</th>\n",
       "      <th>year</th>\n",
       "      <th>month</th>\n",
       "      <th>day</th>\n",
       "      <th>hour</th>\n",
       "      <th>minute</th>\n",
       "      <th>second</th>\n",
       "    </tr>\n",
       "  </thead>\n",
       "  <tbody>\n",
       "    <tr>\n",
       "      <th>3159</th>\n",
       "      <td>1</td>\n",
       "      <td>1</td>\n",
       "      <td>1</td>\n",
       "      <td>1</td>\n",
       "      <td>1</td>\n",
       "      <td>1</td>\n",
       "      <td>auber</td>\n",
       "      <td>1</td>\n",
       "      <td>2016-07-30</td>\n",
       "      <td>10:00:00</td>\n",
       "      <td>...</td>\n",
       "      <td>16</td>\n",
       "      <td>23</td>\n",
       "      <td>3</td>\n",
       "      <td>389</td>\n",
       "      <td>2016</td>\n",
       "      <td>7</td>\n",
       "      <td>30</td>\n",
       "      <td>10</td>\n",
       "      <td>0</td>\n",
       "      <td>0</td>\n",
       "    </tr>\n",
       "    <tr>\n",
       "      <th>3160</th>\n",
       "      <td>1</td>\n",
       "      <td>1</td>\n",
       "      <td>1</td>\n",
       "      <td>1</td>\n",
       "      <td>1</td>\n",
       "      <td>1</td>\n",
       "      <td>auber</td>\n",
       "      <td>1</td>\n",
       "      <td>2016-07-30</td>\n",
       "      <td>10:00:00</td>\n",
       "      <td>...</td>\n",
       "      <td>16</td>\n",
       "      <td>23</td>\n",
       "      <td>9</td>\n",
       "      <td>402</td>\n",
       "      <td>2016</td>\n",
       "      <td>7</td>\n",
       "      <td>30</td>\n",
       "      <td>10</td>\n",
       "      <td>0</td>\n",
       "      <td>0</td>\n",
       "    </tr>\n",
       "    <tr>\n",
       "      <th>3161</th>\n",
       "      <td>1</td>\n",
       "      <td>1</td>\n",
       "      <td>1</td>\n",
       "      <td>1</td>\n",
       "      <td>1</td>\n",
       "      <td>1</td>\n",
       "      <td>auber</td>\n",
       "      <td>1</td>\n",
       "      <td>2016-07-30</td>\n",
       "      <td>10:00:00</td>\n",
       "      <td>...</td>\n",
       "      <td>16</td>\n",
       "      <td>23</td>\n",
       "      <td>a</td>\n",
       "      <td>95</td>\n",
       "      <td>2016</td>\n",
       "      <td>7</td>\n",
       "      <td>30</td>\n",
       "      <td>10</td>\n",
       "      <td>0</td>\n",
       "      <td>0</td>\n",
       "    </tr>\n",
       "    <tr>\n",
       "      <th>3162</th>\n",
       "      <td>1</td>\n",
       "      <td>1</td>\n",
       "      <td>1</td>\n",
       "      <td>1</td>\n",
       "      <td>1</td>\n",
       "      <td>1</td>\n",
       "      <td>auber</td>\n",
       "      <td>1</td>\n",
       "      <td>2016-08-02</td>\n",
       "      <td>10:00:00</td>\n",
       "      <td>...</td>\n",
       "      <td>20</td>\n",
       "      <td>23</td>\n",
       "      <td>3</td>\n",
       "      <td>389</td>\n",
       "      <td>2016</td>\n",
       "      <td>8</td>\n",
       "      <td>2</td>\n",
       "      <td>10</td>\n",
       "      <td>0</td>\n",
       "      <td>0</td>\n",
       "    </tr>\n",
       "    <tr>\n",
       "      <th>3163</th>\n",
       "      <td>1</td>\n",
       "      <td>1</td>\n",
       "      <td>1</td>\n",
       "      <td>1</td>\n",
       "      <td>1</td>\n",
       "      <td>1</td>\n",
       "      <td>auber</td>\n",
       "      <td>1</td>\n",
       "      <td>2016-08-02</td>\n",
       "      <td>10:00:00</td>\n",
       "      <td>...</td>\n",
       "      <td>20</td>\n",
       "      <td>23</td>\n",
       "      <td>9</td>\n",
       "      <td>402</td>\n",
       "      <td>2016</td>\n",
       "      <td>8</td>\n",
       "      <td>2</td>\n",
       "      <td>10</td>\n",
       "      <td>0</td>\n",
       "      <td>0</td>\n",
       "    </tr>\n",
       "  </tbody>\n",
       "</table>\n",
       "<p>5 rows × 21 columns</p>\n",
       "</div>"
      ],
      "text/plain": [
       "     co2 humi no no2 pm10 pm2.5 station temp       date      time   ...    \\\n",
       "3159   1    1  1   1    1     1   auber    1 2016-07-30  10:00:00   ...     \n",
       "3160   1    1  1   1    1     1   auber    1 2016-07-30  10:00:00   ...     \n",
       "3161   1    1  1   1    1     1   auber    1 2016-07-30  10:00:00   ...     \n",
       "3162   1    1  1   1    1     1   auber    1 2016-08-02  10:00:00   ...     \n",
       "3163   1    1  1   1    1     1   auber    1 2016-08-02  10:00:00   ...     \n",
       "\n",
       "     temp_min temp_max ligne stop_id  year  month  day  hour  minute  second  \n",
       "3159       16       23     3     389  2016      7   30    10       0       0  \n",
       "3160       16       23     9     402  2016      7   30    10       0       0  \n",
       "3161       16       23     a      95  2016      7   30    10       0       0  \n",
       "3162       20       23     3     389  2016      8    2    10       0       0  \n",
       "3163       20       23     9     402  2016      8    2    10       0       0  \n",
       "\n",
       "[5 rows x 21 columns]"
      ]
     },
     "execution_count": 58,
     "metadata": {},
     "output_type": "execute_result"
    }
   ],
   "source": [
    "missing_data_2016_auber_modified=missing_data_2016_auber.fillna(\"1\")\n",
    "missing_data_2016_auber_modified.head()\n"
   ]
  },
  {
   "cell_type": "code",
   "execution_count": 59,
   "metadata": {},
   "outputs": [
    {
     "data": {
      "text/plain": [
       "co2                     float64\n",
       "humi                    float64\n",
       "no                      float64\n",
       "no2                     float64\n",
       "pm10                    float64\n",
       "pm2.5                   float64\n",
       "station                  object\n",
       "temp                    float64\n",
       "date             datetime64[ns]\n",
       "time                     object\n",
       "precipitation            object\n",
       "temp_min                float64\n",
       "temp_max                float64\n",
       "ligne                    object\n",
       "stop_id                   int64\n",
       "year                      int32\n",
       "month                     int32\n",
       "day                       int32\n",
       "hour                      int32\n",
       "minute                    int32\n",
       "second                    int32\n",
       "dtype: object"
      ]
     },
     "execution_count": 59,
     "metadata": {},
     "output_type": "execute_result"
    }
   ],
   "source": [
    "type(missing_data_2016_auber_modified)\n",
    "missing_data_2016_auber_modified.empty\n",
    "missing_data_2016_auber_modified.dtypes\n",
    "missing_data_2016_auber_modified[['co2','humi', 'no', 'no2', 'pm10','pm2.5','temp','temp_min','temp_max']] = missing_data_2016_auber_modified[['co2','humi', 'no', 'no2', 'pm10','pm2.5','temp','temp_min','temp_max']].apply(pd.to_numeric)\n",
    "missing_data_2016_auber_modified.dtypes"
   ]
  },
  {
   "cell_type": "markdown",
   "metadata": {},
   "source": [
    "PROBLEME D'AFFICHAGE DU GRAPHIQUE POUR CERTAINES COLONNES EN ORDONNEE DONT LA QUALITE DE L'AIR : POURQUOI ???"
   ]
  },
  {
   "cell_type": "code",
   "execution_count": 60,
   "metadata": {},
   "outputs": [],
   "source": [
    "missing_data_2016_auber_modified_co2 = missing_data_2016_auber_modified[missing_data_2016_auber_modified[\"co2\"] == 1]"
   ]
  },
  {
   "cell_type": "code",
   "execution_count": 61,
   "metadata": {},
   "outputs": [
    {
     "data": {
      "text/plain": [
       "<matplotlib.axes._subplots.AxesSubplot at 0x15d6f0e5438>"
      ]
     },
     "execution_count": 61,
     "metadata": {},
     "output_type": "execute_result"
    },
    {
     "data": {
      "image/png": "[encoded data removed]",
      "text/plain": [
       "<matplotlib.figure.Figure at 0x15d6f0dec50>"
      ]
     },
     "metadata": {},
     "output_type": "display_data"
    }
   ],
   "source": [
    "fig, ax = plt.subplots(figsize=(20,10))\n",
    "missing_data_2016_auber_modified_co2.plot(x = \"date\",y = \"co2\", ax=ax)"
   ]
  },
  {
   "cell_type": "code",
   "execution_count": 17,
   "metadata": {},
   "outputs": [
    {
     "data": {
      "text/html": [
       "<div>\n",
       "<style scoped>\n",
       "    .dataframe tbody tr th:only-of-type {\n",
       "        vertical-align: middle;\n",
       "    }\n",
       "\n",
       "    .dataframe tbody tr th {\n",
       "        vertical-align: top;\n",
       "    }\n",
       "\n",
       "    .dataframe thead th {\n",
       "        text-align: right;\n",
       "    }\n",
       "</style>\n",
       "<table border=\"1\" class=\"dataframe\">\n",
       "  <thead>\n",
       "    <tr style=\"text-align: right;\">\n",
       "      <th></th>\n",
       "      <th>co2</th>\n",
       "      <th>humi</th>\n",
       "      <th>no</th>\n",
       "      <th>no2</th>\n",
       "      <th>pm10</th>\n",
       "      <th>pm2.5</th>\n",
       "      <th>station</th>\n",
       "      <th>temp</th>\n",
       "      <th>date</th>\n",
       "      <th>time</th>\n",
       "      <th>...</th>\n",
       "      <th>temp_min</th>\n",
       "      <th>temp_max</th>\n",
       "      <th>ligne</th>\n",
       "      <th>stop_id</th>\n",
       "      <th>year</th>\n",
       "      <th>month</th>\n",
       "      <th>day</th>\n",
       "      <th>hour</th>\n",
       "      <th>minute</th>\n",
       "      <th>second</th>\n",
       "    </tr>\n",
       "  </thead>\n",
       "  <tbody>\n",
       "    <tr>\n",
       "      <th>15</th>\n",
       "      <td>NaN</td>\n",
       "      <td>44.2</td>\n",
       "      <td>235.0</td>\n",
       "      <td>48.0</td>\n",
       "      <td>654.0</td>\n",
       "      <td>254.0</td>\n",
       "      <td>auber</td>\n",
       "      <td>17.8</td>\n",
       "      <td>2013-01-17</td>\n",
       "      <td>10:00:00</td>\n",
       "      <td>...</td>\n",
       "      <td>-7.0</td>\n",
       "      <td>0.0</td>\n",
       "      <td>3</td>\n",
       "      <td>389</td>\n",
       "      <td>2013</td>\n",
       "      <td>1</td>\n",
       "      <td>17</td>\n",
       "      <td>10</td>\n",
       "      <td>0</td>\n",
       "      <td>0</td>\n",
       "    </tr>\n",
       "    <tr>\n",
       "      <th>16</th>\n",
       "      <td>NaN</td>\n",
       "      <td>44.2</td>\n",
       "      <td>235.0</td>\n",
       "      <td>48.0</td>\n",
       "      <td>654.0</td>\n",
       "      <td>254.0</td>\n",
       "      <td>auber</td>\n",
       "      <td>17.8</td>\n",
       "      <td>2013-01-17</td>\n",
       "      <td>10:00:00</td>\n",
       "      <td>...</td>\n",
       "      <td>-7.0</td>\n",
       "      <td>0.0</td>\n",
       "      <td>9</td>\n",
       "      <td>402</td>\n",
       "      <td>2013</td>\n",
       "      <td>1</td>\n",
       "      <td>17</td>\n",
       "      <td>10</td>\n",
       "      <td>0</td>\n",
       "      <td>0</td>\n",
       "    </tr>\n",
       "    <tr>\n",
       "      <th>17</th>\n",
       "      <td>NaN</td>\n",
       "      <td>44.2</td>\n",
       "      <td>235.0</td>\n",
       "      <td>48.0</td>\n",
       "      <td>654.0</td>\n",
       "      <td>254.0</td>\n",
       "      <td>auber</td>\n",
       "      <td>17.8</td>\n",
       "      <td>2013-01-17</td>\n",
       "      <td>10:00:00</td>\n",
       "      <td>...</td>\n",
       "      <td>-7.0</td>\n",
       "      <td>0.0</td>\n",
       "      <td>a</td>\n",
       "      <td>95</td>\n",
       "      <td>2013</td>\n",
       "      <td>1</td>\n",
       "      <td>17</td>\n",
       "      <td>10</td>\n",
       "      <td>0</td>\n",
       "      <td>0</td>\n",
       "    </tr>\n",
       "    <tr>\n",
       "      <th>75</th>\n",
       "      <td>NaN</td>\n",
       "      <td>46.3</td>\n",
       "      <td>201.0</td>\n",
       "      <td>49.0</td>\n",
       "      <td>547.0</td>\n",
       "      <td>240.0</td>\n",
       "      <td>auber</td>\n",
       "      <td>18.6</td>\n",
       "      <td>2013-02-08</td>\n",
       "      <td>10:00:00</td>\n",
       "      <td>...</td>\n",
       "      <td>0.0</td>\n",
       "      <td>4.0</td>\n",
       "      <td>3</td>\n",
       "      <td>389</td>\n",
       "      <td>2013</td>\n",
       "      <td>2</td>\n",
       "      <td>8</td>\n",
       "      <td>10</td>\n",
       "      <td>0</td>\n",
       "      <td>0</td>\n",
       "    </tr>\n",
       "    <tr>\n",
       "      <th>76</th>\n",
       "      <td>NaN</td>\n",
       "      <td>46.3</td>\n",
       "      <td>201.0</td>\n",
       "      <td>49.0</td>\n",
       "      <td>547.0</td>\n",
       "      <td>240.0</td>\n",
       "      <td>auber</td>\n",
       "      <td>18.6</td>\n",
       "      <td>2013-02-08</td>\n",
       "      <td>10:00:00</td>\n",
       "      <td>...</td>\n",
       "      <td>0.0</td>\n",
       "      <td>4.0</td>\n",
       "      <td>9</td>\n",
       "      <td>402</td>\n",
       "      <td>2013</td>\n",
       "      <td>2</td>\n",
       "      <td>8</td>\n",
       "      <td>10</td>\n",
       "      <td>0</td>\n",
       "      <td>0</td>\n",
       "    </tr>\n",
       "  </tbody>\n",
       "</table>\n",
       "<p>5 rows × 21 columns</p>\n",
       "</div>"
      ],
      "text/plain": [
       "    co2  humi     no   no2   pm10  pm2.5 station  temp       date      time  \\\n",
       "15  NaN  44.2  235.0  48.0  654.0  254.0   auber  17.8 2013-01-17  10:00:00   \n",
       "16  NaN  44.2  235.0  48.0  654.0  254.0   auber  17.8 2013-01-17  10:00:00   \n",
       "17  NaN  44.2  235.0  48.0  654.0  254.0   auber  17.8 2013-01-17  10:00:00   \n",
       "75  NaN  46.3  201.0  49.0  547.0  240.0   auber  18.6 2013-02-08  10:00:00   \n",
       "76  NaN  46.3  201.0  49.0  547.0  240.0   auber  18.6 2013-02-08  10:00:00   \n",
       "\n",
       "     ...    temp_min  temp_max  ligne stop_id  year  month  day  hour  minute  \\\n",
       "15   ...        -7.0       0.0      3     389  2013      1   17    10       0   \n",
       "16   ...        -7.0       0.0      9     402  2013      1   17    10       0   \n",
       "17   ...        -7.0       0.0      a      95  2013      1   17    10       0   \n",
       "75   ...         0.0       4.0      3     389  2013      2    8    10       0   \n",
       "76   ...         0.0       4.0      9     402  2013      2    8    10       0   \n",
       "\n",
       "    second  \n",
       "15       0  \n",
       "16       0  \n",
       "17       0  \n",
       "75       0  \n",
       "76       0  \n",
       "\n",
       "[5 rows x 21 columns]"
      ]
     },
     "execution_count": 17,
     "metadata": {},
     "output_type": "execute_result"
    }
   ],
   "source": [
    "missing_data_co2 = data[data[\"co2\"].isnull()]\n",
    "missing_data_humi = data[data[\"humi\"].isnull()]\n",
    "missing_data_no = data[data[\"no\"].isnull()]\n",
    "missing_data_no2 = data[data[\"no2\"].isnull()]\n",
    "missing_data_pm10 = data[data[\"pm10\"].isnull()]\n",
    "missing_data_pm2_5 = data[data[\"pm2.5\"].isnull()]\n",
    "missing_data_no2 = data[data[\"no2\"].isnull()]\n",
    "missing_data_temp = data[data[\"temp\"].isnull()]\n",
    "\n",
    "missing_data_co2.head()"
   ]
  },
  {
   "cell_type": "code",
   "execution_count": 50,
   "metadata": {},
   "outputs": [
    {
     "name": "stdout",
     "output_type": "stream",
     "text": [
      "34095\n"
     ]
    },
    {
     "data": {
      "text/plain": [
       "pandas.core.frame.DataFrame"
      ]
     },
     "execution_count": 50,
     "metadata": {},
     "output_type": "execute_result"
    }
   ],
   "source": [
    "#fig, ax = plt.subplots(figsize=(20,10))\n",
    "#sns.distplot(missing_data_co2[missing_data_co2['station'] == 'auber']['month'],missing_data_no[missing_data_no['station'] == 'auber']['month'],ax = ax, kde = False)\n",
    "#missing_data_co2.plot(x = 'date',y = 'co2', ax = ax)\n",
    "#missing_data_co2.plot(x='date', y= 'station', ax = ax)\n",
    "#missing_data_no.plot(x='date', y= 'station', ax = ax)\n",
    "#plt.show()\n",
    "#Z= append.([np.ones_like(missing_data_co2)], Z.missing_data_co2,0).missing_data_co2\n",
    "\n",
    "L = len(missing_data_co2)\n",
    "print(L)\n",
    "L = int(L)\n",
    "M = np.ones(L)\n",
    "#missing_data_co2.append(M)\n",
    "type(missing_data_co2)\n"
   ]
  },
  {
   "cell_type": "code",
   "execution_count": 55,
   "metadata": {},
   "outputs": [
    {
     "data": {
      "text/plain": [
       "<matplotlib.axes._subplots.AxesSubplot at 0x20082159080>"
      ]
     },
     "execution_count": 55,
     "metadata": {},
     "output_type": "execute_result"
    },
    {
     "data": {
      "image/png": "[encoded data removed]",
      "text/plain": [
       "<matplotlib.figure.Figure at 0x200f7528710>"
      ]
     },
     "metadata": {},
     "output_type": "display_data"
    }
   ],
   "source": [
    "data.plot(x = 'co2',y = 'humi')"
   ]
  },
  {
   "cell_type": "code",
   "execution_count": 56,
   "metadata": {},
   "outputs": [
    {
     "data": {
      "text/plain": [
       "<matplotlib.axes._subplots.AxesSubplot at 0x200f7533588>"
      ]
     },
     "execution_count": 56,
     "metadata": {},
     "output_type": "execute_result"
    },
    {
     "data": {
      "image/png": "[encoded data removed]",
      "text/plain": [
       "<matplotlib.figure.Figure at 0x200820f6400>"
      ]
     },
     "metadata": {},
     "output_type": "display_data"
    }
   ],
   "source": [
    "data.plot(x = 'co2',y = 'no')"
   ]
  },
  {
   "cell_type": "code",
   "execution_count": 57,
   "metadata": {},
   "outputs": [
    {
     "data": {
      "text/plain": [
       "<matplotlib.axes._subplots.AxesSubplot at 0x200821ba1d0>"
      ]
     },
     "execution_count": 57,
     "metadata": {},
     "output_type": "execute_result"
    },
    {
     "data": {
      "image/png": "[encoded data removed]",
      "text/plain": [
       "<matplotlib.figure.Figure at 0x20081e3ef60>"
      ]
     },
     "metadata": {},
     "output_type": "display_data"
    }
   ],
   "source": [
    "data.plot(x = 'no',y = 'no2')"
   ]
  },
  {
   "cell_type": "code",
   "execution_count": 60,
   "metadata": {},
   "outputs": [
    {
     "data": {
      "text/plain": [
       "<matplotlib.axes._subplots.AxesSubplot at 0x2008224ec88>"
      ]
     },
     "execution_count": 60,
     "metadata": {},
     "output_type": "execute_result"
    },
    {
     "data": {
      "image/png": "[encoded data removed]",
      "text/plain": [
       "<matplotlib.figure.Figure at 0x20081e3e860>"
      ]
     },
     "metadata": {},
     "output_type": "display_data"
    }
   ],
   "source": [
    "data.plot(x = 'co2',y = 'no2')"
   ]
  },
  {
   "cell_type": "code",
   "execution_count": 64,
   "metadata": {},
   "outputs": [
    {
     "data": {
      "image/png": "[encoded data removed]",
      "text/plain": [
       "<matplotlib.figure.Figure at 0x200827797f0>"
      ]
     },
     "metadata": {},
     "output_type": "display_data"
    }
   ],
   "source": [
    "plt.scatter(x = 'pm10',y = 'pm2.5')\n",
    "plt.show()"
   ]
  },
  {
   "cell_type": "code",
   "execution_count": 81,
   "metadata": {},
   "outputs": [
    {
     "data": {
      "text/html": [
       "<div>\n",
       "<style scoped>\n",
       "    .dataframe tbody tr th:only-of-type {\n",
       "        vertical-align: middle;\n",
       "    }\n",
       "\n",
       "    .dataframe tbody tr th {\n",
       "        vertical-align: top;\n",
       "    }\n",
       "\n",
       "    .dataframe thead th {\n",
       "        text-align: right;\n",
       "    }\n",
       "</style>\n",
       "<table border=\"1\" class=\"dataframe\">\n",
       "  <thead>\n",
       "    <tr style=\"text-align: right;\">\n",
       "      <th></th>\n",
       "      <th>missing data co2</th>\n",
       "      <th>missing data humi</th>\n",
       "      <th>missing data no</th>\n",
       "      <th>missing data no2</th>\n",
       "      <th>missing data pm10</th>\n",
       "      <th>missing data pm2.5</th>\n",
       "      <th>missing data temp</th>\n",
       "    </tr>\n",
       "  </thead>\n",
       "  <tbody>\n",
       "    <tr>\n",
       "      <th>missing data co2</th>\n",
       "      <td>34095</td>\n",
       "      <td>15977</td>\n",
       "      <td>21284</td>\n",
       "      <td>19053</td>\n",
       "      <td>17743</td>\n",
       "      <td>30287</td>\n",
       "      <td>16084</td>\n",
       "    </tr>\n",
       "    <tr>\n",
       "      <th>missing data humi</th>\n",
       "      <td>15977</td>\n",
       "      <td>17018</td>\n",
       "      <td>15955</td>\n",
       "      <td>15924</td>\n",
       "      <td>15906</td>\n",
       "      <td>17008</td>\n",
       "      <td>16985</td>\n",
       "    </tr>\n",
       "    <tr>\n",
       "      <th>missing data no</th>\n",
       "      <td>21284</td>\n",
       "      <td>15955</td>\n",
       "      <td>98614</td>\n",
       "      <td>46621</td>\n",
       "      <td>19597</td>\n",
       "      <td>89744</td>\n",
       "      <td>16068</td>\n",
       "    </tr>\n",
       "    <tr>\n",
       "      <th>missing data no2</th>\n",
       "      <td>19053</td>\n",
       "      <td>15924</td>\n",
       "      <td>46621</td>\n",
       "      <td>46623</td>\n",
       "      <td>17246</td>\n",
       "      <td>38726</td>\n",
       "      <td>16037</td>\n",
       "    </tr>\n",
       "    <tr>\n",
       "      <th>missing data pm10</th>\n",
       "      <td>17743</td>\n",
       "      <td>15906</td>\n",
       "      <td>19597</td>\n",
       "      <td>17246</td>\n",
       "      <td>32425</td>\n",
       "      <td>31151</td>\n",
       "      <td>15941</td>\n",
       "    </tr>\n",
       "    <tr>\n",
       "      <th>missing data pm2.5</th>\n",
       "      <td>30287</td>\n",
       "      <td>17008</td>\n",
       "      <td>89744</td>\n",
       "      <td>38726</td>\n",
       "      <td>31151</td>\n",
       "      <td>304035</td>\n",
       "      <td>17096</td>\n",
       "    </tr>\n",
       "    <tr>\n",
       "      <th>missing data temp</th>\n",
       "      <td>16084</td>\n",
       "      <td>16985</td>\n",
       "      <td>16068</td>\n",
       "      <td>16037</td>\n",
       "      <td>15941</td>\n",
       "      <td>17096</td>\n",
       "      <td>17114</td>\n",
       "    </tr>\n",
       "  </tbody>\n",
       "</table>\n",
       "</div>"
      ],
      "text/plain": [
       "                    missing data co2  missing data humi  missing data no  \\\n",
       "missing data co2               34095              15977            21284   \n",
       "missing data humi              15977              17018            15955   \n",
       "missing data no                21284              15955            98614   \n",
       "missing data no2               19053              15924            46621   \n",
       "missing data pm10              17743              15906            19597   \n",
       "missing data pm2.5             30287              17008            89744   \n",
       "missing data temp              16084              16985            16068   \n",
       "\n",
       "                    missing data no2  missing data pm10  missing data pm2.5  \\\n",
       "missing data co2               19053              17743               30287   \n",
       "missing data humi              15924              15906               17008   \n",
       "missing data no                46621              19597               89744   \n",
       "missing data no2               46623              17246               38726   \n",
       "missing data pm10              17246              32425               31151   \n",
       "missing data pm2.5             38726              31151              304035   \n",
       "missing data temp              16037              15941               17096   \n",
       "\n",
       "                    missing data temp  \n",
       "missing data co2                16084  \n",
       "missing data humi               16985  \n",
       "missing data no                 16068  \n",
       "missing data no2                16037  \n",
       "missing data pm10               15941  \n",
       "missing data pm2.5              17096  \n",
       "missing data temp               17114  "
      ]
     },
     "execution_count": 81,
     "metadata": {},
     "output_type": "execute_result"
    }
   ],
   "source": [
    "def valeur(x):\n",
    "    return [len(data[data[x].isnull() & \n",
    "                        data[\"co2\"].isnull()]),len(data[data[x].isnull() & \n",
    "                        data[\"humi\"].isnull()]), len(data[data[x].isnull() & \n",
    "                        data[\"no\"].isnull()]),len(data[data[x].isnull() & \n",
    "                        data[\"no2\"].isnull()]),len(data[data[x].isnull() & \n",
    "                        data[\"pm10\"].isnull()]),len(data[data[x].isnull() & \n",
    "                        data[\"pm2.5\"].isnull()]),len(data[data[x].isnull() & \n",
    "                        data[\"temp\"].isnull()])]\n",
    "                \n",
    "\n",
    "d =  {'col1' : valeur('co2'),'col2': valeur('humi'),'col3' : valeur('no'), \n",
    "      'col4': valeur ('no2'), 'col5' : valeur('pm10'), 'col6': valeur('pm2.5'), 'col7' : valeur('temp')}\n",
    "\n",
    "\n",
    "df1= pd.DataFrame(data=d, index = ['missing data co2','missing data humi', 'missing data no', \n",
    "             'missing data no2', 'missing data pm10', 'missing data pm2.5', 'missing data temp'])\n",
    "df1.columns=['missing data co2', 'missing data humi', 'missing data no', \n",
    "             'missing data no2', 'missing data pm10', 'missing data pm2.5', 'missing data temp']\n",
    "\n",
    "\n",
    "df1\n",
    "                                                   "
   ]
  },
  {
   "cell_type": "markdown",
   "metadata": {},
   "source": [
    "Nombre de données manquantes \n",
    "en binome:\n",
    "min missing data pm10 et humi 15 906\n",
    "max missing data pm2.5 et no 89744\n",
    "en absolu : \n",
    "min humi \n",
    "max pm2.5\n"
   ]
  },
  {
   "cell_type": "code",
   "execution_count": 76,
   "metadata": {},
   "outputs": [
    {
     "data": {
      "text/plain": [
       "<bound method DataFrame.min of                     missing data co2  missing data humi  missing data no  \\\n",
       "missing data humi              15977              17018            15955   \n",
       "missing data no                21284              15955            98614   \n",
       "missing data no2               19053              15924            46621   \n",
       "missing data pm10              17743              15906            19597   \n",
       "missing data pm2.5             30287              17008            89744   \n",
       "missing data temp              16084              16985            16068   \n",
       "\n",
       "                    missing data no2  missing data pm10  missing data pm2.5  \\\n",
       "missing data humi              15924              15906               17008   \n",
       "missing data no                46621              19597               89744   \n",
       "missing data no2               46623              17246               38726   \n",
       "missing data pm10              17246              32425               31151   \n",
       "missing data pm2.5             38726              31151              304035   \n",
       "missing data temp              16037              15941               17096   \n",
       "\n",
       "                    missing data temp  \n",
       "missing data humi               16985  \n",
       "missing data no                 16068  \n",
       "missing data no2                16037  \n",
       "missing data pm10               15941  \n",
       "missing data pm2.5              17096  \n",
       "missing data temp               17114  >"
      ]
     },
     "execution_count": 76,
     "metadata": {},
     "output_type": "execute_result"
    }
   ],
   "source": [
    "df1.min"
   ]
  },
  {
   "cell_type": "code",
   "execution_count": 78,
   "metadata": {},
   "outputs": [
    {
     "ename": "NameError",
     "evalue": "name 'which' is not defined",
     "output_type": "error",
     "traceback": [
      "\u001b[1;31m---------------------------------------------------------------------------\u001b[0m",
      "\u001b[1;31mNameError\u001b[0m                                 Traceback (most recent call last)",
      "\u001b[1;32m<ipython-input-78-c9938c678ed3>\u001b[0m in \u001b[0;36m<module>\u001b[1;34m()\u001b[0m\n\u001b[1;32m----> 1\u001b[1;33m \u001b[0mwhich\u001b[0m\u001b[1;33m.\u001b[0m\u001b[0mmin\u001b[0m\u001b[1;33m(\u001b[0m\u001b[0mapply\u001b[0m\u001b[1;33m(\u001b[0m\u001b[0mdf1\u001b[0m\u001b[1;33m,\u001b[0m\u001b[0mmin\u001b[0m\u001b[1;33m)\u001b[0m\u001b[1;33m)\u001b[0m\u001b[1;33m\u001b[0m\u001b[0m\n\u001b[0m",
      "\u001b[1;31mNameError\u001b[0m: name 'which' is not defined"
     ]
    }
   ],
   "source": [
    "which.min(apply(df1,min))"
   ]
  },
  {
   "cell_type": "code",
   "execution_count": 79,
   "metadata": {},
   "outputs": [
    {
     "data": {
      "text/plain": [
       "missing data co2      missing data humi\n",
       "missing data humi     missing data pm10\n",
       "missing data no       missing data humi\n",
       "missing data no2      missing data humi\n",
       "missing data pm10     missing data humi\n",
       "missing data pm2.5    missing data humi\n",
       "missing data temp     missing data pm10\n",
       "dtype: object"
      ]
     },
     "execution_count": 79,
     "metadata": {},
     "output_type": "execute_result"
    }
   ],
   "source": [
    "df1.idxmin()\n"
   ]
  },
  {
   "cell_type": "code",
   "execution_count": 90,
   "metadata": {},
   "outputs": [
    {
     "name": "stderr",
     "output_type": "stream",
     "text": [
      "c:\\program files\\python36\\lib\\site-packages\\pandas\\core\\ops.py:816: FutureWarning: elementwise comparison failed; returning scalar instead, but in the future will perform elementwise comparison\n",
      "  result = getattr(x, name)(y)\n"
     ]
    },
    {
     "ename": "TypeError",
     "evalue": "invalid type comparison",
     "output_type": "error",
     "traceback": [
      "\u001b[1;31m---------------------------------------------------------------------------\u001b[0m",
      "\u001b[1;31mTypeError\u001b[0m                                 Traceback (most recent call last)",
      "\u001b[1;32m<ipython-input-90-ca7f69d0abdd>\u001b[0m in \u001b[0;36m<module>\u001b[1;34m()\u001b[0m\n\u001b[0;32m      4\u001b[0m \u001b[1;31m#m_d_2013 = missing_data_year('2013')\u001b[0m\u001b[1;33m\u001b[0m\u001b[1;33m\u001b[0m\u001b[0m\n\u001b[0;32m      5\u001b[0m \u001b[1;33m\u001b[0m\u001b[0m\n\u001b[1;32m----> 6\u001b[1;33m \u001b[0mdf2\u001b[0m \u001b[1;33m=\u001b[0m \u001b[0mmissing_data_pm2_5\u001b[0m\u001b[1;33m[\u001b[0m\u001b[0mmissing_data_pm2_5\u001b[0m\u001b[1;33m[\u001b[0m\u001b[1;34m'year'\u001b[0m\u001b[1;33m]\u001b[0m \u001b[1;33m==\u001b[0m \u001b[1;34m'2013'\u001b[0m\u001b[1;33m]\u001b[0m\u001b[1;33m\u001b[0m\u001b[0m\n\u001b[0m\u001b[0;32m      7\u001b[0m \u001b[1;33m\u001b[0m\u001b[0m\n\u001b[0;32m      8\u001b[0m \u001b[1;31m#fig, ax = plt.subplots(figsize=(20,10))\u001b[0m\u001b[1;33m\u001b[0m\u001b[1;33m\u001b[0m\u001b[0m\n",
      "\u001b[1;32mc:\\program files\\python36\\lib\\site-packages\\pandas\\core\\ops.py\u001b[0m in \u001b[0;36mwrapper\u001b[1;34m(self, other, axis)\u001b[0m\n\u001b[0;32m    877\u001b[0m \u001b[1;33m\u001b[0m\u001b[0m\n\u001b[0;32m    878\u001b[0m             \u001b[1;32mwith\u001b[0m \u001b[0mnp\u001b[0m\u001b[1;33m.\u001b[0m\u001b[0merrstate\u001b[0m\u001b[1;33m(\u001b[0m\u001b[0mall\u001b[0m\u001b[1;33m=\u001b[0m\u001b[1;34m'ignore'\u001b[0m\u001b[1;33m)\u001b[0m\u001b[1;33m:\u001b[0m\u001b[1;33m\u001b[0m\u001b[0m\n\u001b[1;32m--> 879\u001b[1;33m                 \u001b[0mres\u001b[0m \u001b[1;33m=\u001b[0m \u001b[0mna_op\u001b[0m\u001b[1;33m(\u001b[0m\u001b[0mvalues\u001b[0m\u001b[1;33m,\u001b[0m \u001b[0mother\u001b[0m\u001b[1;33m)\u001b[0m\u001b[1;33m\u001b[0m\u001b[0m\n\u001b[0m\u001b[0;32m    880\u001b[0m             \u001b[1;32mif\u001b[0m \u001b[0mis_scalar\u001b[0m\u001b[1;33m(\u001b[0m\u001b[0mres\u001b[0m\u001b[1;33m)\u001b[0m\u001b[1;33m:\u001b[0m\u001b[1;33m\u001b[0m\u001b[0m\n\u001b[0;32m    881\u001b[0m                 raise TypeError('Could not compare {typ} type with Series'\n",
      "\u001b[1;32mc:\\program files\\python36\\lib\\site-packages\\pandas\\core\\ops.py\u001b[0m in \u001b[0;36mna_op\u001b[1;34m(x, y)\u001b[0m\n\u001b[0;32m    816\u001b[0m                     \u001b[0mresult\u001b[0m \u001b[1;33m=\u001b[0m \u001b[0mgetattr\u001b[0m\u001b[1;33m(\u001b[0m\u001b[0mx\u001b[0m\u001b[1;33m,\u001b[0m \u001b[0mname\u001b[0m\u001b[1;33m)\u001b[0m\u001b[1;33m(\u001b[0m\u001b[0my\u001b[0m\u001b[1;33m)\u001b[0m\u001b[1;33m\u001b[0m\u001b[0m\n\u001b[0;32m    817\u001b[0m                 \u001b[1;32mif\u001b[0m \u001b[0mresult\u001b[0m \u001b[1;32mis\u001b[0m \u001b[0mNotImplemented\u001b[0m\u001b[1;33m:\u001b[0m\u001b[1;33m\u001b[0m\u001b[0m\n\u001b[1;32m--> 818\u001b[1;33m                     \u001b[1;32mraise\u001b[0m \u001b[0mTypeError\u001b[0m\u001b[1;33m(\u001b[0m\u001b[1;34m\"invalid type comparison\"\u001b[0m\u001b[1;33m)\u001b[0m\u001b[1;33m\u001b[0m\u001b[0m\n\u001b[0m\u001b[0;32m    819\u001b[0m             \u001b[1;32mexcept\u001b[0m \u001b[0mAttributeError\u001b[0m\u001b[1;33m:\u001b[0m\u001b[1;33m\u001b[0m\u001b[0m\n\u001b[0;32m    820\u001b[0m                 \u001b[0mresult\u001b[0m \u001b[1;33m=\u001b[0m \u001b[0mop\u001b[0m\u001b[1;33m(\u001b[0m\u001b[0mx\u001b[0m\u001b[1;33m,\u001b[0m \u001b[0my\u001b[0m\u001b[1;33m)\u001b[0m\u001b[1;33m\u001b[0m\u001b[0m\n",
      "\u001b[1;31mTypeError\u001b[0m: invalid type comparison"
     ]
    }
   ],
   "source": [
    "#def missing_data_year(year):\n",
    "#    return  missing_data_pm2_5[missing_data_pm2_5['year'] == year ]\n",
    "\n",
    "#m_d_2013 = missing_data_year('2013')\n",
    "\n",
    "df2 = data[data['year'] == \"2013\"]\n",
    "df2 = missing_data_pm2_5[missing_data_pm2_5['year'] == '2013']\n",
    "\n",
    "#fig, ax = plt.subplots(figsize=(20,10))\n",
    "#sns.distplot(m_d_2013[m_d_2013['station'] == 'auber']['month'], ax = ax, kde = False)"
   ]
  },
  {
   "cell_type": "code",
   "execution_count": 91,
   "metadata": {},
   "outputs": [
    {
     "data": {
      "text/plain": [
       "co2              132.495035\n",
       "humi               8.516972\n",
       "no                51.174799\n",
       "no2               21.009427\n",
       "pm10             102.881077\n",
       "pm2.5             53.734651\n",
       "temp               4.157270\n",
       "precipitation      3.726569\n",
       "temp_min           5.773361\n",
       "temp_max           7.700643\n",
       "stop_id          199.220394\n",
       "year               1.118045\n",
       "month              3.446912\n",
       "day                8.793717\n",
       "hour               6.771134\n",
       "minute             0.000000\n",
       "second             0.000000\n",
       "dtype: float64"
      ]
     },
     "execution_count": 91,
     "metadata": {},
     "output_type": "execute_result"
    }
   ],
   "source": [
    "data.std()"
   ]
  },
  {
   "cell_type": "code",
   "execution_count": null,
   "metadata": {},
   "outputs": [],
   "source": []
  }
 ],
 "metadata": {
  "kernelspec": {
   "display_name": "Python 3",
   "language": "python",
   "name": "python3"
  },
  "language_info": {
   "codemirror_mode": {
    "name": "ipython",
    "version": 3
   },
   "file_extension": ".py",
   "mimetype": "text/x-python",
   "name": "python",
   "nbconvert_exporter": "python",
   "pygments_lexer": "ipython3",
   "version": "3.6.2"
  }
 },
 "nbformat": 4,
 "nbformat_minor": 2
}
