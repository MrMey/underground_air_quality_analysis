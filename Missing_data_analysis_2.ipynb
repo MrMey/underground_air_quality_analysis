{
 "cells": [
  {
   "cell_type": "markdown",
   "metadata": {},
   "source": [
    "- Premier état des lieux des données manquantes --> qu'a-t-on besoin de savoir ?\n",
    "- Suppression des données inutiles et trop manquantes et pas de lien avec le pb étudié (fréquentation) :pm10, pm2.5\n",
    "- Comprendre l'évolution des données manquantes selon stations et années \n",
    "    -- multiples graphes par station et par année :\n",
    "    différents profils identifier si les scenari sont différents ou non pour savoir si on fait plusieurs modèles\n",
    "    -- se limiter à Auber qui contient le moins le données manquantes\n",
    "    -- la répartition des données manquantes varie par année donc la fourchette temporelle d'une analyse doit être \n",
    "    limitée à une année\n",
    "    -- étudier les plages temporelles de données manquantes (1 heure sur deux il y a qqchose ou un il y a un mois\n",
    "    manquant)\n",
    "- Stratégie de remplacement des données manquantes \n",
    "\n",
    "\n",
    "\n",
    "\n",
    "max de nombre de jours ou il n'y a pas de données\n",
    "définir des fonctions de traitement\n",
    "NB \n",
    " - Input data \n",
    " - Entrees temp min max (météo)\n",
    " - Output data \n",
    " - Sorties air quality analysis\n",
    " \n",
    " Steps \n",
    " - finir données manquantes\n",
    " - rajouter features pour avoir toujours plus de paramètres et affinement de paramètres\n",
    " - prise en compte temporelle : modèle ponctuel (en donnant un jeu de paramètres) ou avec délai (glissant avec les 24h)\n",
    " - modélisation"
   ]
  },
  {
   "cell_type": "code",
   "execution_count": null,
   "metadata": {},
   "outputs": [],
   "source": []
  }
 ],
 "metadata": {
  "kernelspec": {
   "display_name": "Python 3",
   "language": "python",
   "name": "python3"
  },
  "language_info": {
   "codemirror_mode": {
    "name": "ipython",
    "version": 3
   },
   "file_extension": ".py",
   "mimetype": "text/x-python",
   "name": "python",
   "nbconvert_exporter": "python",
   "pygments_lexer": "ipython3",
   "version": "3.6.2"
  }
 },
 "nbformat": 4,
 "nbformat_minor": 2
}
